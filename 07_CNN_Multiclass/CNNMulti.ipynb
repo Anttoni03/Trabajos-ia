{
 "cells": [
  {
   "cell_type": "code",
   "execution_count": 1,
   "metadata": {
    "ExecuteTime": {
     "end_time": "2024-10-24T13:14:20.305335Z",
     "start_time": "2024-10-24T13:14:13.070162Z"
    },
    "id": "FaadnhbpCcsh"
   },
   "outputs": [],
   "source": [
    "import torch\n",
    "import torch.nn as nn\n",
    "\n",
    "from torchvision import datasets, transforms\n",
    "import torch.optim as optim\n",
    "\n",
    "import matplotlib.pyplot as plt\n",
    "from sklearn.metrics import accuracy_score\n",
    "\n",
    "from tqdm.auto import tqdm\n"
   ]
  },
  {
   "cell_type": "markdown",
   "metadata": {
    "id": "Ly7lrx-gCuLy"
   },
   "source": [
    "# Xarxes convolucionals multiclasse\n",
    "\n",
    "Aquesta pràctica està enfocada en l'extensió dels conceptes apresos anteriorment sobre les xarxes neuronals convolucionals (CNN) aplicades a la classificació binària. En la sessió passada, vam treballar amb problemes de classificació on només hi havia dues categories possibles. Ara farem un pas més endavant i ens centrarem en els problemes de classificació multiclasse, on un conjunt de dades pot tenir més de dues classes o categories possibles.\n",
    "\n",
    "L'objectiu d'aquesta pràctica és entendre com les CNN poden adaptar-se a problemes multiclasse, i com els canvis en l'arquitectura, la funció de pèrdua i el processament de sortida permeten gestionar aquesta complexitat addicional. A més, explorarem les estratègies més adequades per a l'entrenament de models en aquest context, i veurem com interpretar els resultats obtinguts en un escenari amb múltiples categories.\n",
    "\n",
    "Aquesta pràctica proporcionarà una base sòlida per abordar problemes de classificació en aplicacions reals, com ara el reconeixement d'imatges amb més d'una etiqueta possible.\n",
    "\n",
    "## Dades\n",
    "\n",
    "El conjunt de dades [Fashion MNIST](https://github.com/zalandoresearch/fashion-mnist) és una versió alternativa al MNIST, que consisteix en imatges de roba en lloc de dígits escrits a mà. És un conjunt de dades de classificació multiclasse molt utilitzat per a tasques d'aprenentatge automàtic i visió per computador, i s'ha convertit en un estàndard per provar models de xarxes neuronals.\n",
    "\n",
    "El conjunt conté un total de 70.000 imatges en escala de grisos, cadascuna amb una mida de 28x28 píxels, distribuïdes en 10 categories diferents de peces de vestir, com per exemple samarretes, pantalons, sabates, i altres articles de moda. Hi ha 60.000 imatges per a entrenament i 10.000 per a proves.\n",
    "\n",
    "Cada imatge està etiquetada amb un valor entre 0 i 9, que correspon a un tipus de roba.\n",
    "\n",
    "![Exemples de Fashion MNIST](https://raw.githubusercontent.com/zalandoresearch/fashion-mnist/master/doc/img/fashion-mnist-sprite.png)\n",
    "\n",
    "\n"
   ]
  },
  {
   "cell_type": "code",
   "execution_count": 2,
   "metadata": {
    "ExecuteTime": {
     "end_time": "2024-10-24T13:15:28.231318Z",
     "start_time": "2024-10-24T13:15:24.866472Z"
    },
    "id": "PwSoPhjXCvV9"
   },
   "outputs": [
    {
     "name": "stdout",
     "output_type": "stream",
     "text": [
      "Downloading http://fashion-mnist.s3-website.eu-central-1.amazonaws.com/train-images-idx3-ubyte.gz\n",
      "Downloading http://fashion-mnist.s3-website.eu-central-1.amazonaws.com/train-images-idx3-ubyte.gz to ../data\\FashionMNIST\\raw\\train-images-idx3-ubyte.gz\n"
     ]
    },
    {
     "name": "stderr",
     "output_type": "stream",
     "text": [
      "100%|█████████████████████████████████████████████████████████████████████████████| 26.4M/26.4M [00:03<00:00, 7.87MB/s]\n"
     ]
    },
    {
     "name": "stdout",
     "output_type": "stream",
     "text": [
      "Extracting ../data\\FashionMNIST\\raw\\train-images-idx3-ubyte.gz to ../data\\FashionMNIST\\raw\n",
      "\n",
      "Downloading http://fashion-mnist.s3-website.eu-central-1.amazonaws.com/train-labels-idx1-ubyte.gz\n",
      "Downloading http://fashion-mnist.s3-website.eu-central-1.amazonaws.com/train-labels-idx1-ubyte.gz to ../data\\FashionMNIST\\raw\\train-labels-idx1-ubyte.gz\n"
     ]
    },
    {
     "name": "stderr",
     "output_type": "stream",
     "text": [
      "100%|██████████████████████████████████████████████████████████████████████████████| 29.5k/29.5k [00:00<00:00, 369kB/s]\n"
     ]
    },
    {
     "name": "stdout",
     "output_type": "stream",
     "text": [
      "Extracting ../data\\FashionMNIST\\raw\\train-labels-idx1-ubyte.gz to ../data\\FashionMNIST\\raw\n",
      "\n",
      "Downloading http://fashion-mnist.s3-website.eu-central-1.amazonaws.com/t10k-images-idx3-ubyte.gz\n",
      "Downloading http://fashion-mnist.s3-website.eu-central-1.amazonaws.com/t10k-images-idx3-ubyte.gz to ../data\\FashionMNIST\\raw\\t10k-images-idx3-ubyte.gz\n"
     ]
    },
    {
     "name": "stderr",
     "output_type": "stream",
     "text": [
      "100%|█████████████████████████████████████████████████████████████████████████████| 4.42M/4.42M [00:02<00:00, 2.06MB/s]\n"
     ]
    },
    {
     "name": "stdout",
     "output_type": "stream",
     "text": [
      "Extracting ../data\\FashionMNIST\\raw\\t10k-images-idx3-ubyte.gz to ../data\\FashionMNIST\\raw\n",
      "\n",
      "Downloading http://fashion-mnist.s3-website.eu-central-1.amazonaws.com/t10k-labels-idx1-ubyte.gz\n",
      "Downloading http://fashion-mnist.s3-website.eu-central-1.amazonaws.com/t10k-labels-idx1-ubyte.gz to ../data\\FashionMNIST\\raw\\t10k-labels-idx1-ubyte.gz\n"
     ]
    },
    {
     "name": "stderr",
     "output_type": "stream",
     "text": [
      "100%|█████████████████████████████████████████████████████████████████████████████████████| 5.15k/5.15k [00:00<?, ?B/s]"
     ]
    },
    {
     "name": "stdout",
     "output_type": "stream",
     "text": [
      "Extracting ../data\\FashionMNIST\\raw\\t10k-labels-idx1-ubyte.gz to ../data\\FashionMNIST\\raw\n",
      "\n"
     ]
    },
    {
     "name": "stderr",
     "output_type": "stream",
     "text": [
      "\n"
     ]
    }
   ],
   "source": [
    "DOWNLOAD = False\n",
    "BATCH_SIZE = 64\n",
    "EPOCHS = 5\n",
    "\n",
    "transform = transforms.Compose([\n",
    "    transforms.ToTensor(),\n",
    "])\n",
    "\n",
    "\n",
    "train= datasets.FashionMNIST(\"../data\", train=True, download=DOWNLOAD, transform=transform)\n",
    "test=datasets.FashionMNIST(\"../data\", train=False, download=DOWNLOAD, transform=transform)\n",
    "\n",
    "train_loader = torch.utils.data.DataLoader(train, BATCH_SIZE)\n",
    "test_loader = torch.utils.data.DataLoader(test, BATCH_SIZE)"
   ]
  },
  {
   "cell_type": "code",
   "execution_count": 3,
   "metadata": {
    "ExecuteTime": {
     "end_time": "2024-10-24T13:15:28.497798Z",
     "start_time": "2024-10-24T13:15:28.450472Z"
    }
   },
   "outputs": [
    {
     "name": "stdout",
     "output_type": "stream",
     "text": [
      "torch.Size([64, 1, 28, 28])\n"
     ]
    }
   ],
   "source": [
    "img, target = next(iter(train_loader))\n",
    "print(img.shape)"
   ]
  },
  {
   "cell_type": "markdown",
   "metadata": {},
   "source": [
    "## Definició de la xarxa\n",
    "\n",
    "En primer lloc, declaram una xarxa (CNN) partim de la que vàreu emprar ahir amb en Biel:"
   ]
  },
  {
   "cell_type": "code",
   "execution_count": 43,
   "metadata": {
    "ExecuteTime": {
     "end_time": "2024-10-24T13:26:55.827847Z",
     "start_time": "2024-10-24T13:26:55.818839Z"
    }
   },
   "outputs": [],
   "source": [
    "model_cnn = nn.Sequential(\n",
    "    torch.nn.Conv2d(in_channels= 1, out_channels= 4, kernel_size=(3,3), stride=1, padding=\"same\"),\n",
    "    torch.nn.MaxPool2d(kernel_size=(2,2)),\n",
    "    torch.nn.ReLU(),\n",
    "\n",
    "    torch.nn.Conv2d(in_channels= 4, out_channels= 8, kernel_size=(3,3), stride=1, padding=\"same\"),\n",
    "    torch.nn.MaxPool2d(kernel_size=(2,2)),\n",
    "    torch.nn.ReLU(),\n",
    "\n",
    "    torch.nn.Flatten(1),\n",
    "\n",
    "    torch.nn.Linear(392, 10),\n",
    "    nn.ReLU(),\n",
    "    torch.nn.Linear(10, 10),\n",
    "    nn.ReLU(),\n",
    "    torch.nn.Linear(10, 10),\n",
    ")\n",
    "\n",
    "#model_cnn.to('cuda')"
   ]
  },
  {
   "cell_type": "markdown",
   "metadata": {
    "id": "s8i4Mg8KuD3r"
   },
   "source": [
    "**Per poder resoldre el problema d'avui s'ha de modificar**\n"
   ]
  },
  {
   "cell_type": "markdown",
   "metadata": {},
   "source": [
    "## Entrenament CNN\n",
    "\n",
    "Ara partint de l'entrenament d'ahir heu d'adaptar-lo a multiclasse. Per fer-ho hem de canviar tot un conjunt d'elements:\n",
    "\n",
    "-   **Funció de pèrdua**. La funció de pèrdua que hem emprat fins ara està especialment dissenyada per problemes binaris hem trobar-ne una que serveixi per multiclasse. La funció que hem emprat [``BCEWithLogits``](https://pytorch.org/docs/stable/generated/torch.nn.BCEWithLogitsLoss.html) (binary cross entropy) a més té una peculiaritat: inclou una funció Sigmoide. A la plana de [pytorch](https://pytorch.org/docs/stable/nn.html#loss-functions) podreu veure totes les funcions de pèrdua que hi ha.\n",
    "-   **Sortida de la xarxa**. La xarxa ha de retornar una codificació adequada per més de dues classes.\n",
    "\n",
    "Les funcions sigmoide i softmax són dues funcions d'activació molt utilitzades en xarxes neuronals, especialment en tasques de classificació, però tenen aplicacions diferents\n",
    "segons el tipus de problema.\n",
    "\n",
    "### Funció Sigmoide\n",
    "\n",
    "La funció sigmoide es defineix com:\n",
    "\n",
    "$$\\sigma(X) = \\frac{1}{1+e^{-x}}$$\n",
    "\n",
    "**Aquesta funció pren qualsevol valor real d'entrada i el transforma en un valor comprès entre 0 i 1.** Per aquest motiu, s'utilitza principalment en problemes de classificació binària, on l'objectiu és assignar una de dues possibles classes. La sortida de la funció sigmoide es pot interpretar com una probabilitat, fent que sigui especialment útil per a la sortida d'una xarxa neuronal en problemes on es busca predir una classe binària (0 o 1).\n",
    "\n",
    "### Funció Softmax\n",
    "\n",
    "La funció softmax s'utilitza en problemes de classificació multiclasse. Aquesta funció pren un vector d'entrades (generalment els valors generats a la sortida d'una capa final d'una xarxa neuronal) i el transforma en una distribució de probabilitats, assegurant que la suma de les probabilitats sigui igual a 1. La seva fórmula és:\n",
    "\n",
    "$$SM(x_i) = \\frac{e^x_i}{\\sum^n_{j=1} e^{x_j}}$$\n",
    "\n",
    "Aquí, $x_i$ és un dels valors de la sortida, i la funció calcula la probabilitat de cada classe relativa a les altres. Això fa que softmax sigui ideal per a problemes de classificació amb múltiples categories, ja que converteix els valors de la sortida en probabilitats que es poden utilitzar per predir quina és la classe més probable.\n",
    "\n",
    "En resum:\n",
    "\n",
    "- Sigmoide: útil per a classificació binària, genera una sortida entre 0 i 1.\n",
    "- Softmax: s'utilitza en classificació multiclasse, distribueix probabilitats entre totes les classes.\n"
   ]
  },
  {
   "cell_type": "markdown",
   "metadata": {},
   "source": []
  },
  {
   "cell_type": "code",
   "execution_count": 16,
   "metadata": {
    "ExecuteTime": {
     "end_time": "2024-10-24T13:26:58.066019Z",
     "start_time": "2024-10-24T13:26:58.060514Z"
    }
   },
   "outputs": [],
   "source": [
    "loss_fn = torch.nn.CrossEntropyLoss()\n",
    "learning_rate = 1e-3  # Hiperparàmetre\n",
    "optimizer = optim.Adam(model_cnn.parameters(), lr=learning_rate)\n",
    "\n",
    "running_loss = []\n",
    "running_acc = []\n",
    "\n",
    "running_test_loss = []\n",
    "running_test_acc_cnn = []"
   ]
  },
  {
   "cell_type": "code",
   "execution_count": 50,
   "metadata": {
    "ExecuteTime": {
     "end_time": "2024-10-24T13:28:17.954897Z",
     "start_time": "2024-10-24T13:27:00.330648Z"
    }
   },
   "outputs": [
    {
     "data": {
      "application/vnd.jupyter.widget-view+json": {
       "model_id": "003ce92db7aa4867bc87d00b89ed5b8f",
       "version_major": 2,
       "version_minor": 0
      },
      "text/plain": [
       "Èpoques:   0%|          | 0/5 [00:00<?, ?it/s]"
      ]
     },
     "metadata": {},
     "output_type": "display_data"
    },
    {
     "data": {
      "application/vnd.jupyter.widget-view+json": {
       "model_id": "e07a9bd4ca6a40cfa0d4259df86a3648",
       "version_major": 2,
       "version_minor": 0
      },
      "text/plain": [
       "Batches (Època 1): 0it [00:00, ?it/s]"
      ]
     },
     "metadata": {},
     "output_type": "display_data"
    },
    {
     "data": {
      "application/vnd.jupyter.widget-view+json": {
       "model_id": "a4f8ac4fb62046ac86951e8b05b35636",
       "version_major": 2,
       "version_minor": 0
      },
      "text/plain": [
       "Batches (Època 2): 0it [00:00, ?it/s]"
      ]
     },
     "metadata": {},
     "output_type": "display_data"
    },
    {
     "data": {
      "application/vnd.jupyter.widget-view+json": {
       "model_id": "6b92c6d8fc9d4d589b69fb608d7c39ff",
       "version_major": 2,
       "version_minor": 0
      },
      "text/plain": [
       "Batches (Època 3): 0it [00:00, ?it/s]"
      ]
     },
     "metadata": {},
     "output_type": "display_data"
    },
    {
     "data": {
      "application/vnd.jupyter.widget-view+json": {
       "model_id": "a1497aaf78014914a3d9f837b81d17d1",
       "version_major": 2,
       "version_minor": 0
      },
      "text/plain": [
       "Batches (Època 4): 0it [00:00, ?it/s]"
      ]
     },
     "metadata": {},
     "output_type": "display_data"
    },
    {
     "data": {
      "application/vnd.jupyter.widget-view+json": {
       "model_id": "175421286e244fab8676284a9195c18d",
       "version_major": 2,
       "version_minor": 0
      },
      "text/plain": [
       "Batches (Època 5): 0it [00:00, ?it/s]"
      ]
     },
     "metadata": {},
     "output_type": "display_data"
    }
   ],
   "source": [
    "for t in tqdm(range(EPOCHS), desc=\"Èpoques\"):\n",
    "    batch_loss = 0\n",
    "    batch_acc = 0\n",
    "    \n",
    "    i_batch = 1\n",
    "    # Iteram els batches.\n",
    "    for i_batch, (x, y) in tqdm(enumerate(train_loader), desc=f\"Batches (Època {t + 1})\"):\n",
    "        model_cnn.train()  # Posam el model a mode entranament.\n",
    "\n",
    "        optimizer.zero_grad()\n",
    "\n",
    "        # 1. PREDICCIÓ\n",
    "\n",
    "        y_pred = model_cnn(x)\n",
    "        \n",
    "\n",
    "        # 2. CALCUL DE LA PÈRDUA\n",
    "        # Computa la pèrdua: l'error de predicció vs el valor correcte\n",
    "        # Es guarda la pèrdua en un array per futures visualitzacions\n",
    "\n",
    "        loss = loss_fn(y_pred, y)\n",
    "\n",
    "        #3. GRADIENT\n",
    "        model_cnn.zero_grad()\n",
    "        loss.backward()\n",
    "\n",
    "        # Actualitza els pesos utilitzant l'algorisme d'actualització\n",
    "        #4. OPTIMITZACIO\n",
    "        with torch.no_grad():\n",
    "            optimizer.step()\n",
    "\n",
    "        # 5. EVALUAM EL MODEL\n",
    "        model_cnn.eval()  # Mode avaluació de la xarxa\n",
    "\n",
    "        batch_loss += (loss_fn(y_pred, y).detach())\n",
    "        batch_acc += accuracy_score(torch.argmax(y_pred.detach(), dim=1), y.detach())\n",
    "\n",
    "    running_loss.append(batch_loss / (i_batch + 1))\n",
    "    running_acc.append(batch_acc / (i_batch + 1))\n",
    "\n",
    "    batch_test_loss = 0\n",
    "    batch_test_acc = 0\n",
    "\n",
    "    for i_batch, (x, y) in enumerate(test_loader):\n",
    "\n",
    "        y_pred = model_cnn(x)\n",
    "        y_pred_binary = (y_pred > 0.5).double()\n",
    "        \n",
    "        batch_test_loss += (loss_fn(y_pred, y).detach())\n",
    "        acc = accuracy_score(torch.argmax(y_pred_binary.detach(), dim=1), y.detach())\n",
    "        batch_test_acc += acc\n",
    "\n",
    "    running_test_loss.append(batch_test_loss / (i_batch + 1))\n",
    "    running_test_acc_cnn.append(batch_test_acc / (i_batch + 1))"
   ]
  },
  {
   "cell_type": "code",
   "execution_count": 51,
   "metadata": {
    "ExecuteTime": {
     "end_time": "2024-10-24T13:28:24.193887Z",
     "start_time": "2024-10-24T13:28:24.025901Z"
    }
   },
   "outputs": [
    {
     "data": {
      "image/png": "[encoded data removed]",
      "text/plain": [
       "<Figure size 640x480 with 2 Axes>"
      ]
     },
     "metadata": {},
     "output_type": "display_data"
    }
   ],
   "source": [
    "plt.subplot(1,2,1)\n",
    "plt.title(\"Loss per iteració CNN\")\n",
    "plt.plot(running_loss, label=\"train\")\n",
    "plt.plot(running_test_loss, label=\"test\")\n",
    "plt.legend()\n",
    "\n",
    "plt.subplot(1,2,2)\n",
    "plt.title(\"Accuracy per iteració CNN\")\n",
    "plt.plot(running_acc, label=\"train\")\n",
    "plt.plot(running_test_acc_cnn, label=\"test\")\n",
    "plt.legend()\n",
    "plt.show()"
   ]
  },
  {
   "cell_type": "code",
   "execution_count": null,
   "metadata": {},
   "outputs": [],
   "source": [
    "running_test_acc_cnn[-1]"
   ]
  },
  {
   "cell_type": "markdown",
   "metadata": {
    "id": "wjeMWK8cJkqN"
   },
   "source": [
    "## Resultats\n",
    "\n",
    "Aquí visualitzarem els resultats d'aprenentatge de la xarxa. \n",
    "\n",
    "### Feina a fer:\n",
    "\n",
    "1. Adaptar la sortida del model per un problema multiclasse.\n",
    "2. Emprar una funció de pèrdua adequada per un entorn multiclasse.\n",
    "3. Obtenir l'accuracy en aquest entorn multiclasse.\n",
    "\n",
    "\n",
    "*Subplots*\n",
    "\n",
    "Per fer graelles d'imatges podeu empar la funció `subplots`. Més [informació](https://matplotlib.org/stable/api/_as_gen/matplotlib.pyplot.subplots.html)\n",
    "\n"
   ]
  }
 ],
 "metadata": {
  "accelerator": "GPU",
  "colab": {
   "provenance": []
  },
  "gpuClass": "standard",
  "kernelspec": {
   "display_name": "Python 3 (ipykernel)",
   "language": "python",
   "name": "python3"
  },
  "language_info": {
   "codemirror_mode": {
    "name": "ipython",
    "version": 3
   },
   "file_extension": ".py",
   "mimetype": "text/x-python",
   "name": "python",
   "nbconvert_exporter": "python",
   "pygments_lexer": "ipython3",
   "version": "3.11.10"
  }
 },
 "nbformat": 4,
 "nbformat_minor": 4
}
