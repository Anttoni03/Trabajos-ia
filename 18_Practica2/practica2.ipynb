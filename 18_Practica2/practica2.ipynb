{
 "cells": [
  {
   "cell_type": "code",
   "execution_count": 1,
   "id": "16c10140-348c-46b6-a90e-3f3ed0a44e2f",
   "metadata": {},
   "outputs": [
    {
     "data": {
      "text/html": [
       "<link rel= \"stylesheet\" type= \"text/css\" href= \"style.css\">\n"
      ],
      "text/plain": [
       "<IPython.core.display.HTML object>"
      ]
     },
     "metadata": {},
     "output_type": "display_data"
    }
   ],
   "source": [
    "%%html\n",
    "<link rel= \"stylesheet\" type= \"text/css\" href= \"style.css\">"
   ]
  },
  {
   "cell_type": "markdown",
   "id": "b0bfb8cd-588e-41c2-8c63-153049cd608e",
   "metadata": {},
   "source": [
    "# <div class = \"title\">Pràctica 2 <br> Classificació, detecció i Segmentació al Caltech </div>\n",
    "## <div class = \"sub-title\">Segona pràctica d'Aprenentatge automàtic amb xarxes neuronals</div>\n",
    "### <div class = \"subsub-title\">Aprenentatge automàtic 2024-25</div>\n",
    "\n",
    "<div style=\"text-align: center;\">\n",
    "    <img src=\"img/portada2.png\" align=\"justify\" width=\"65%\" class=\"border\"/>\n",
    "    \n",
    "    Antoni Frau Gordiola - 43482642S\n",
    "    Miquel Oliver Alcayde - 43482642S\n",
    "</div>"
   ]
  },
  {
   "cell_type": "markdown",
   "id": "4979053b-eafc-4757-8f63-9f39702349c0",
   "metadata": {},
   "source": [
    "## Funcions auxiliars\n",
    "\n",
    "<p>El primer de tot són les funcions i <em>imports</em> que ens ajudaran a llegir les dades i anotacions, tractar-les si fa falta, visualitzats, etc. També si en algun moment s'usa una funció auxiliar, es trobarà aquí. Part d'aquesta secció ha estat proporcionada pels professors i material docent.</p>"
   ]
  },
  {
   "cell_type": "code",
   "execution_count": 2,
   "id": "03db09cf-60de-4d41-8fa2-880460b4c42d",
   "metadata": {},
   "outputs": [],
   "source": [
    "import os\n",
    "import numpy as np\n",
    "import random\n",
    "import imageio.v2 as imageio\n",
    "from skimage.io import imread\n",
    "from skimage.transform import resize\n",
    "import matplotlib.pyplot as plt\n",
    "from sklearn.model_selection import train_test_split\n",
    "# ---\n",
    "from tqdm.auto import tqdm\n",
    "import torch\n",
    "from torch import nn\n",
    "import torch.optim as optim\n",
    "from torchvision import datasets, models, transforms\n",
    "\n",
    "from torch.utils.data import DataLoader\n",
    "from torchvision.datasets import ImageFolder\n",
    "from sklearn.metrics import accuracy_score\n",
    "\n",
    "from PIL import Image"
   ]
  },
  {
   "cell_type": "code",
   "execution_count": null,
   "id": "9e181433-3c51-4527-8f7b-443f96614e6d",
   "metadata": {},
   "outputs": [],
   "source": [
    "# GENERAR DATA AUGMENTATION Y GUARDAR\n",
    "# NO USAR !!!!!!!!!!\n",
    "\n",
    "# Transformacions\n",
    "data_transforms = transforms.Compose([\n",
    "    transforms.RandomAffine(degrees=0, translate=(0.15, 0.15), scale=None, shear=None), #Translació en vertical i horitzontal\n",
    "    transforms.RandomHorizontalFlip(p=0.5),                                           # Flip horitzontal\n",
    "    transforms.ColorJitter(brightness=0.4, contrast=0.4),                             # Adjust de color\n",
    "    #transforms.RandomRotation(30),                                                   # Rotació aleatòria fins a 30 graus\n",
    "    #transforms.RandomResizedCrop(size=(64, 64), scale=(0.9, 1.0)),                   # Retall aleatori\n",
    "    transforms.ToTensor(),                                                            # Convertir a tensor\n",
    "])\n",
    "\n",
    "# Llegir el dataset\n",
    "dataset = ImageFolder(root=\"data/101_ObjectCategories/train\", transform=data_transforms)\n",
    "\n",
    "input_dir = \"data/101_ObjectCategories/train\"\n",
    "output_dir = \"data/101_ObjectCategories/train_transform\"\n",
    "os.makedirs(output_dir, exist_ok=True)\n",
    "\n",
    "for i, (image, label) in enumerate(dataset):\n",
    "    # Recuperar el nom de la subcarpeta (la classe de la imatge)\n",
    "    class_name = dataset.classes[label]\n",
    "    \n",
    "    # Crear/assignar la carpeta per a cada classe\n",
    "    class_folder = os.path.join(output_dir, class_name)\n",
    "    os.makedirs(class_folder, exist_ok=True)\n",
    "    \n",
    "    # Convertir el tensor a imatge \n",
    "    image_pil = transforms.ToPILImage()(image)\n",
    "    \n",
    "    # Guardar la imatge\n",
    "    image_name = f\"{class_name}_{i+100}.jpg\"\n",
    "    image_pil.save(os.path.join(class_folder, image_name))"
   ]
  },
  {
   "cell_type": "code",
   "execution_count": null,
   "id": "64aaa687-1fbc-4fa9-a8aa-122804a2b97f",
   "metadata": {},
   "outputs": [],
   "source": [
    "# CALCULAR LA MEDIA Y DESVIACIÓN PARA TRANSFORMAR EL DATASET\n",
    "# NO USAR !!!!!!!!!!!!!\n",
    "\n",
    "# Inicializar acumuladores\n",
    "num_samples = 0\n",
    "channel_sum = torch.zeros(3)\n",
    "channel_sum_squared = torch.zeros(3)\n",
    "\n",
    "for images, _ in train_loader:\n",
    "    num_samples += images.size(0)  # Incrementar número de imágenes\n",
    "    channel_sum += images.sum(dim=[0, 2, 3])  # Sumar valores por canal\n",
    "    channel_sum_squared += (images ** 2).sum(dim=[0, 2, 3])  # Sumar cuadrados de valores por canal\n",
    "\n",
    "# Calcular la media y desviación estándar\n",
    "mean = channel_sum / (num_samples * images.size(2) * images.size(3))\n",
    "std = torch.sqrt(channel_sum_squared / (num_samples * images.size(2) * images.size(3)) - mean ** 2)\n",
    "\n",
    "print(f\"Mean: {mean}\")\n",
    "print(f\"Std: {std}\")"
   ]
  },
  {
   "cell_type": "code",
   "execution_count": 3,
   "id": "1cd302ec-0a0b-4c00-bd23-0667e1b5ce98",
   "metadata": {},
   "outputs": [],
   "source": [
    "def train_model(model, epochs, optimizer, loss_fn, train, test, show_batch=True):\n",
    "    running_loss = []\n",
    "    running_acc = []\n",
    "    \n",
    "    running_test_loss = []\n",
    "    running_test_acc_cnn = []\n",
    "    \n",
    "    for t in tqdm(range(epochs), desc=\"Èpoques\"):\n",
    "        batch_loss = 0\n",
    "        batch_acc = 0\n",
    "    \n",
    "        i_batch = 1\n",
    "        # Iteram els batches.\n",
    "        for i_batch, (x, y) in tqdm(enumerate(train), desc=f\"Batches (Època {t + 1})\", leave=show_batch):\n",
    "            model.train()  # Posam el model a mode entranament.\n",
    "    \n",
    "            optimizer.zero_grad()\n",
    "    \n",
    "            # 1. PREDICCIÓ\n",
    "            y_pred = model(x.to(device))\n",
    "    \n",
    "            # 2. CALCUL DE LA PÈRDUA\n",
    "            # Computa la pèrdua: l'error de predicció vs el valor correcte\n",
    "            # Es guarda la pèrdua en un array per futures visualitzacions\n",
    "    \n",
    "            loss = loss_fn(y_pred, y.to(device))\n",
    "    \n",
    "            #3. GRADIENT\n",
    "            model.zero_grad()\n",
    "            loss.backward()\n",
    "    \n",
    "            # Actualitza els pesos utilitzant l'algorisme d'actualització\n",
    "            #4. OPTIMITZACIO\n",
    "            with torch.no_grad():\n",
    "                optimizer.step()\n",
    "    \n",
    "            # 5. EVALUAM EL MODEL\n",
    "            model.eval()  # Mode avaluació de la xarxa\n",
    "    \n",
    "            y_pred = model(x.to(device)).detach().cpu()\n",
    "            batch_loss += (loss_fn(y_pred, y).detach())\n",
    "    \n",
    "            y_pred_class = torch.argmax(y_pred, dim=1)\n",
    "            batch_acc += accuracy_score(y, y_pred_class)\n",
    "    \n",
    "        running_loss.append((batch_loss / (i_batch + 1)).cpu())\n",
    "        running_acc.append(batch_acc / (i_batch + 1))\n",
    "    \n",
    "        batch_test_loss = 0\n",
    "        batch_test_acc = 0\n",
    "    \n",
    "        model.eval()\n",
    "        for i_batch, (x, y) in enumerate(test):\n",
    "            y_pred = model(x.to(device))\n",
    "            batch_test_loss += (loss_fn(y_pred, y.to(device)).detach())\n",
    "    \n",
    "            y_pred_class = torch.argmax(y_pred, dim=1).detach().cpu().numpy()\n",
    "            batch_test_acc += accuracy_score(y, y_pred_class)\n",
    "    \n",
    "        running_test_loss.append((batch_test_loss / (i_batch + 1)).cpu())\n",
    "        running_test_acc_cnn.append(batch_test_acc / (i_batch + 1))\n",
    "\n",
    "    return running_loss, running_test_loss, running_acc, running_test_acc_cnn"
   ]
  },
  {
   "cell_type": "code",
   "execution_count": 4,
   "id": "56138d5d-475b-4d89-82c1-a46136fb749f",
   "metadata": {},
   "outputs": [],
   "source": [
    "def plot_train_results(running_loss, running_test_loss, running_acc, running_test_acc_cnn, name):\n",
    "    plt.subplot(1,2,1)\n",
    "    plt.title(f\"Loss per iteració {name}\")\n",
    "    plt.plot(running_loss, label=\"train\")\n",
    "    plt.plot(running_test_loss, label=\"test\")\n",
    "    plt.legend()\n",
    "    \n",
    "    plt.subplot(1,2,2)\n",
    "    plt.title(f\"Accuracy per iteració {name}\")\n",
    "    plt.plot(running_acc, label=\"train\")\n",
    "    plt.plot(running_test_acc_cnn, label=\"test\")\n",
    "    plt.legend()\n",
    "    plt.show()"
   ]
  },
  {
   "cell_type": "markdown",
   "id": "914b2db3-019d-4277-8281-3830e64bf566",
   "metadata": {},
   "source": [
    "# Introducció al problema"
   ]
  },
  {
   "cell_type": "markdown",
   "id": "2ffc5b04-856e-4a03-a365-efde7e6820a1",
   "metadata": {},
   "source": [
    "L'objectiu d'aquesta pràctica és dissenyar, entrenar i avaluar models basats en xarxes neuronals per abordar diverses tasques relacionades amb el reconeixement d'objectes en imatges. Per fer-ho, es fa servir un subconjunt de dades del **Caltech 101**, àmpliament utilitzat en investigacions relacionades amb la visió per computador i l'aprenentatge profund. El conjunt de dades inclou imatges organitzades en 101 categories d'objectes, com ara flors, animals, vehicles, electrodomèstics i altres objectes quotidians, però les tasques es faran en relació amb només dues de les classes.\n",
    "\n",
    "En aquesta pràctica, l'enfocament se centra a treballar amb les dues categories específiques aportades pel professorat: **làmpades i bitllets de dòlar**, que de primera mà pareixen objectes visualment molt diferents. Aquest contrast serà útil tant per avaluar el rendiment dels models com per analitzar-ne els punts forts i febles en tasques específiques.\n",
    "\n",
    "Característiques del conjunt de dades Caltech 101:\n",
    "- Conté aproximadament 9.100 imatges distribuïdes en diferents categories.\n",
    "- El nombre d'imatges per categoria és desigual i varia entre 40 i 800 imatges per classe, amb una mitjana aproximada de 50 imatges per categoria. Això significa que pot ser les classes no estiguin equilibrades.\n",
    "- Les imatges són de resolució baixa, amb mides que oscil·len entre 200x200 i 300x300 píxels.\n",
    "- Cada imatge pertany a una única categoria, cosa que simplifica l'organització de les etiquetes.\n",
    "\n",
    "Objectiu general de la pràctica:\n",
    "A partir d'aquest conjunt de dades, hem d'implementar models de xarxes neuronals capaços d'abordar les tasques següents:\n",
    "\n",
    "1. Classificació d'objectes: Identificar correctament a quina classe pertany un objecte dins una imatge.\n",
    "2. Detecció d'objectes: Localitzar la posició de l'objecte dins la imatge utilitzant bounding boxes.\n",
    "3. Segmentació d'objectes: Separar l'objecte del vostre entorn, creant una màscara que destaqui la vostra àrea exacta dins la imatge.\n",
    "4. Explicabilitat dels models: Aplicar mètodes d'interpretabilitat per comprendre millor les decisions preses pels models i avaluar-ne la fiabilitat. Aquest apartat és extra.\n",
    "\n",
    "En el cas concret d'aquesta pràctica, en haver assignat les categories de làmpades i bitllets de dòlar, se cercarà explorar com els models responen davant de categories amb formes, colors i patrons visuals clarament diferenciats. Aquest contrast creim que facilitarà la comparació del rendiment dels models entrenats, tant en termes de precisió com en altres indicadors clau com el temps d'inferència, robustesa davant de dades possiblement desbalancejades i la interpretabilitat de les prediccions.\n",
    "\n",
    "Els models que s'usaran per a les anteriors tasques són:\n",
    "\n",
    "1. Classificació\n",
    "    1. **AlexNet**: Perquè, com hem vist a l'assignatura, és una xarxa neuronal convolucional destacada, que va revolucionar el camp de l'aprenentatge profund després de guanyar el concurs ImageNet el 2012. La seva arquitectura, basada en múltiples capes convolucionals, max-pooling i activacions ReLU, la fa ideal per extreure característiques complexes de les imatges. La seva eficàcia en tasques de classificació la converteix en una excel·lent opció per fer fine-tuning i adaptar-la a les classes \"làmpada\" i \"bitllet de dòlar\". A més, creim que és una bona opció per començar, ja que ja l'hem usada a classe.\n",
    "    2. **VGG16**: Perquè és una xarxa neuronal convolucional que destaca per la seva arquitectura profunda i senzilla, composta per capes convolucionals amb filtres petits i blocs seguits de max-pooling. Aquesta estructura permet extreure característiques molt detallades i jeràrquiques de les imatges, cosa que la fa especialment adequada per a tasques de classificació. A més, també és una xarxa vista a classe, pel que hem vist que el disseny modular que té facilita el fine-tuning.\n",
    "    3. **ResNet50**: Aquesta perquè és una xarxa neuronal convolucional coneguda pel seu innovador disseny, basat en blocs residuals. Això permet entrenar xarxes molt profundes en solucionar el problema de l'esvaïment del gradient, facilitant que les capes aprenguin millor fins i tot en arquitectures complexes, com és aquesta i no la de 18 capes, vista a classe. Com té bona capacitat per capturar característiques detallades i fer tasques de classificació, creim que és ideal per adaptar mitjançant fine-tuning i arribar un poc més enllà a la classificació.\n",
    "    4. **Custom**: També s'ha d'implementar una xarxa *custom*, de forma que segurament la farem basant-mos en altres xarxes que ja existeixen, però s'aprofundirà a l'apartat corresponent. Aquest resultat és el que veim més inesperat, ja que no tenim cap base, i poden sortir resultats molts diversos.\n",
    "2. Detecció\n",
    "    1. **YOLO**: És una xarxa vista a l'assignatura, i sabem que és un model extremadament ràpid i precís, dissenyat per processar imatges en temps real. A diferència d'altres mètodes, YOLO divideix la imatge en una quadrícula i prediu simultàniament les bounding boxes i les classes dels objectes, cosa que el fa eficient i adequat per a tasques on la rapidesa és clau. En aquest cas l'exercici no ho demana, però si cal fer fine-tuning, aquest model és adaptable i de forma molt senzilla.\n",
    "    2. **UNET?**: \n",
    "3. Segmentació\n",
    "    1. **Mask-RCNN**\n",
    "    2. **SAM**\n",
    "    3. **YOLO?**"
   ]
  },
  {
   "cell_type": "markdown",
   "id": "99029e86-acfe-4cc9-9e86-18f590b4307f",
   "metadata": {},
   "source": [
    "# Primeres passes, metodologia"
   ]
  },
  {
   "cell_type": "markdown",
   "id": "b3c4b5be-3946-433e-9f3f-a7b3786002cc",
   "metadata": {},
   "source": [
    "## Anàlisi de les dades\n",
    "\n",
    "Resize de les imatges amb https://redketchup.io/bulk-image-resizer\n",
    "\n",
    "Primer de tot es carreguen les imatges i anotacions corresponents, i amb una mida adequada (es considera que 128×128 és suficient per interpretar-ho tant el model com l'humà).\n",
    "\n",
    "El que es fa abans d'entrenar el model final, és cercar els millors paràmetres de les configuracions pels models amb **linear**, **RBF** i **poly**. S'avança que aquests seran els models amb es que es realitzarà la pràctica. Per triar aquests millors paràmetres es farà la cerca exhaustiva amb **k-fold** i **GridSearch**, i per tant el més raonable és cercar la millor configuració amb un subconjunt de les dades inicials. S'ha fet una cerca amb aproximadament el **20%** del total, i per fer aquesta separació s'ha usat `train_test_split`. D'aquesta forma es genera `sub_imatges`, que representarà el subconjunt de les dades totals per a la cerca dels paràmetres. Es destaca que sempre que s'usi aquesta terminologia(*sub*)) fa referència al subconjunt del 20%."
   ]
  },
  {
   "cell_type": "code",
   "execution_count": 5,
   "id": "dd01ca62-e4f3-424d-ac09-d3df8e151e5d",
   "metadata": {},
   "outputs": [],
   "source": [
    "BATCH_SIZE = 8\n",
    "EPOCHS = 16\n",
    "\n",
    "transform = transforms.Compose([\n",
    "    transforms.Resize((224, 224)),\n",
    "    transforms.ToTensor(),\n",
    "    transforms.Normalize(mean=[0.5528, 0.5267, 0.4900], std=[0.3080, 0.3099, 0.3042])\n",
    "])\n",
    "\n",
    "train = datasets.ImageFolder('data/101_ObjectCategories/train', transform=transform)\n",
    "test = datasets.ImageFolder('data/101_ObjectCategories/test', transform=transform)\n",
    "\n",
    "train_loader = torch.utils.data.DataLoader(train, batch_size=BATCH_SIZE, shuffle=True)\n",
    "test_loader = torch.utils.data.DataLoader(test, batch_size=BATCH_SIZE, shuffle=True)\n",
    "\n",
    "device = torch.device(\"cuda\" if torch.cuda.is_available() else \"cpu\")"
   ]
  },
  {
   "cell_type": "code",
   "execution_count": null,
   "id": "2fd1606d-5b6b-47e8-ae76-b7bf5ee9996c",
   "metadata": {},
   "outputs": [],
   "source": [
    "img, target = next(iter(train_loader))\n",
    "print(img.shape, target)\n",
    "plt.imshow(img[0, 0], cmap='gray')\n",
    "plt.title(target[0])"
   ]
  },
  {
   "cell_type": "markdown",
   "id": "b8f5bf01-6521-421c-9ee8-a15d249d3684",
   "metadata": {},
   "source": [
    "## Models emprats\n",
    "\n",
    "Explicar models"
   ]
  },
  {
   "cell_type": "markdown",
   "id": "22226148-e2d7-4cab-a4fa-0b54cf926fce",
   "metadata": {},
   "source": [
    "## Mètriques\n",
    "\n",
    "Explicar mètriques"
   ]
  },
  {
   "cell_type": "markdown",
   "id": "97ee93d9-c119-44a9-ba30-6441dd062293",
   "metadata": {},
   "source": [
    "# Exercicis i experiments"
   ]
  },
  {
   "cell_type": "markdown",
   "id": "96a97496-0c53-4aa3-bdad-90b9b96a07a7",
   "metadata": {},
   "source": [
    "## Classificació"
   ]
  },
  {
   "cell_type": "markdown",
   "id": "54239f53-17e4-491a-b2b8-8c9d9f632da3",
   "metadata": {},
   "source": [
    "### Classificació amb AlexNet\n",
    "\n",
    "Explicació de classificació amb AlexNet"
   ]
  },
  {
   "cell_type": "code",
   "execution_count": 6,
   "id": "1edef031-1924-4193-bc45-795f9243360f",
   "metadata": {},
   "outputs": [
    {
     "name": "stderr",
     "output_type": "stream",
     "text": [
      "C:\\Users\\Toni\\miniconda3\\envs\\iaToni2024\\Lib\\site-packages\\torchvision\\models\\_utils.py:223: UserWarning: Arguments other than a weight enum or `None` for 'weights' are deprecated since 0.13 and may be removed in the future. The current behavior is equivalent to passing `weights=AlexNet_Weights.IMAGENET1K_V1`. You can also use `weights=AlexNet_Weights.DEFAULT` to get the most up-to-date weights.\n",
      "  warnings.warn(msg)\n"
     ]
    },
    {
     "name": "stdout",
     "output_type": "stream",
     "text": [
      "Arquitectura AlexNet:\n",
      "AlexNet(\n",
      "  (features): Sequential(\n",
      "    (0): Conv2d(3, 64, kernel_size=(11, 11), stride=(4, 4), padding=(2, 2))\n",
      "    (1): ReLU(inplace=True)\n",
      "    (2): MaxPool2d(kernel_size=3, stride=2, padding=0, dilation=1, ceil_mode=False)\n",
      "    (3): Conv2d(64, 192, kernel_size=(5, 5), stride=(1, 1), padding=(2, 2))\n",
      "    (4): ReLU(inplace=True)\n",
      "    (5): MaxPool2d(kernel_size=3, stride=2, padding=0, dilation=1, ceil_mode=False)\n",
      "    (6): Conv2d(192, 384, kernel_size=(3, 3), stride=(1, 1), padding=(1, 1))\n",
      "    (7): ReLU(inplace=True)\n",
      "    (8): Conv2d(384, 256, kernel_size=(3, 3), stride=(1, 1), padding=(1, 1))\n",
      "    (9): ReLU(inplace=True)\n",
      "    (10): Conv2d(256, 256, kernel_size=(3, 3), stride=(1, 1), padding=(1, 1))\n",
      "    (11): ReLU(inplace=True)\n",
      "    (12): MaxPool2d(kernel_size=3, stride=2, padding=0, dilation=1, ceil_mode=False)\n",
      "  )\n",
      "  (avgpool): AdaptiveAvgPool2d(output_size=(6, 6))\n",
      "  (classifier): Sequential(\n",
      "    (0): Dropout(p=0.5, inplace=False)\n",
      "    (1): Linear(in_features=9216, out_features=4096, bias=True)\n",
      "    (2): ReLU()\n",
      "    (3): Dropout(p=0.5, inplace=False)\n",
      "    (4): Linear(in_features=4096, out_features=1024, bias=True)\n",
      "    (5): ReLU()\n",
      "    (6): Linear(in_features=1024, out_features=512, bias=True)\n",
      "    (7): ReLU()\n",
      "    (8): Linear(in_features=512, out_features=2, bias=True)\n",
      "  )\n",
      ")\n"
     ]
    }
   ],
   "source": [
    "alex = models.alexnet(weights=True)\n",
    "in_features = alex.classifier[1].in_features\n",
    "\n",
    "alex.classifier = nn.Sequential(\n",
    "    torch.nn.Dropout(p=0.5),\n",
    "    torch.nn.Linear(in_features, 4096),\n",
    "    torch.nn.ReLU(),\n",
    "    torch.nn.Dropout(p=0.5),\n",
    "    torch.nn.Linear(in_features=4096, out_features=1024),\n",
    "    torch.nn.ReLU(),\n",
    "    torch.nn.Linear(in_features=1024, out_features=512),\n",
    "    torch.nn.ReLU(),\n",
    "    torch.nn.Linear(in_features=512, out_features=2) # 2 clases finales\n",
    ")\n",
    "\n",
    "print(\"Arquitectura AlexNet:\")\n",
    "print(alex)"
   ]
  },
  {
   "cell_type": "code",
   "execution_count": 7,
   "id": "d542baaf-df7b-4216-9bfc-13da0b3893bd",
   "metadata": {},
   "outputs": [
    {
     "data": {
      "application/vnd.jupyter.widget-view+json": {
       "model_id": "d4f2251a166340de92042e4b9da362f1",
       "version_major": 2,
       "version_minor": 0
      },
      "text/plain": [
       "Èpoques:   0%|          | 0/16 [00:00<?, ?it/s]"
      ]
     },
     "metadata": {},
     "output_type": "display_data"
    },
    {
     "data": {
      "application/vnd.jupyter.widget-view+json": {
       "model_id": "bef55e2cb86e4ec7a6d9ab66b04d73ff",
       "version_major": 2,
       "version_minor": 0
      },
      "text/plain": [
       "Batches (Època 1): 0it [00:00, ?it/s]"
      ]
     },
     "metadata": {},
     "output_type": "display_data"
    },
    {
     "data": {
      "application/vnd.jupyter.widget-view+json": {
       "model_id": "fd3cf1a44f134dfd9649cea3ff7ea53a",
       "version_major": 2,
       "version_minor": 0
      },
      "text/plain": [
       "Batches (Època 2): 0it [00:00, ?it/s]"
      ]
     },
     "metadata": {},
     "output_type": "display_data"
    },
    {
     "data": {
      "application/vnd.jupyter.widget-view+json": {
       "model_id": "f92b693f6c3148c287e6783d97d3aace",
       "version_major": 2,
       "version_minor": 0
      },
      "text/plain": [
       "Batches (Època 3): 0it [00:00, ?it/s]"
      ]
     },
     "metadata": {},
     "output_type": "display_data"
    },
    {
     "data": {
      "application/vnd.jupyter.widget-view+json": {
       "model_id": "8cef1261766444819a37e025cb14d09a",
       "version_major": 2,
       "version_minor": 0
      },
      "text/plain": [
       "Batches (Època 4): 0it [00:00, ?it/s]"
      ]
     },
     "metadata": {},
     "output_type": "display_data"
    },
    {
     "data": {
      "application/vnd.jupyter.widget-view+json": {
       "model_id": "d536e568172341089d77060dd0736c89",
       "version_major": 2,
       "version_minor": 0
      },
      "text/plain": [
       "Batches (Època 5): 0it [00:00, ?it/s]"
      ]
     },
     "metadata": {},
     "output_type": "display_data"
    },
    {
     "data": {
      "application/vnd.jupyter.widget-view+json": {
       "model_id": "d62c88501d5244529504eeb8042d3eb5",
       "version_major": 2,
       "version_minor": 0
      },
      "text/plain": [
       "Batches (Època 6): 0it [00:00, ?it/s]"
      ]
     },
     "metadata": {},
     "output_type": "display_data"
    },
    {
     "data": {
      "application/vnd.jupyter.widget-view+json": {
       "model_id": "f3a96c92be564d68b5069101f3892e1d",
       "version_major": 2,
       "version_minor": 0
      },
      "text/plain": [
       "Batches (Època 7): 0it [00:00, ?it/s]"
      ]
     },
     "metadata": {},
     "output_type": "display_data"
    },
    {
     "data": {
      "application/vnd.jupyter.widget-view+json": {
       "model_id": "3848e6f660b64c308e2963e92e70310e",
       "version_major": 2,
       "version_minor": 0
      },
      "text/plain": [
       "Batches (Època 8): 0it [00:00, ?it/s]"
      ]
     },
     "metadata": {},
     "output_type": "display_data"
    },
    {
     "data": {
      "application/vnd.jupyter.widget-view+json": {
       "model_id": "5d2d6c241b6744ddbf1f7f82c7a502bb",
       "version_major": 2,
       "version_minor": 0
      },
      "text/plain": [
       "Batches (Època 9): 0it [00:00, ?it/s]"
      ]
     },
     "metadata": {},
     "output_type": "display_data"
    },
    {
     "data": {
      "application/vnd.jupyter.widget-view+json": {
       "model_id": "6a577f7a6520439099fb0f9e45df1f88",
       "version_major": 2,
       "version_minor": 0
      },
      "text/plain": [
       "Batches (Època 10): 0it [00:00, ?it/s]"
      ]
     },
     "metadata": {},
     "output_type": "display_data"
    },
    {
     "data": {
      "application/vnd.jupyter.widget-view+json": {
       "model_id": "785681ae97114efa96d7fbacfec04a10",
       "version_major": 2,
       "version_minor": 0
      },
      "text/plain": [
       "Batches (Època 11): 0it [00:00, ?it/s]"
      ]
     },
     "metadata": {},
     "output_type": "display_data"
    },
    {
     "data": {
      "application/vnd.jupyter.widget-view+json": {
       "model_id": "fec741d75abc4c0787f3e607726ac6ea",
       "version_major": 2,
       "version_minor": 0
      },
      "text/plain": [
       "Batches (Època 12): 0it [00:00, ?it/s]"
      ]
     },
     "metadata": {},
     "output_type": "display_data"
    },
    {
     "data": {
      "application/vnd.jupyter.widget-view+json": {
       "model_id": "58932d4fce804c01bff0176a56226455",
       "version_major": 2,
       "version_minor": 0
      },
      "text/plain": [
       "Batches (Època 13): 0it [00:00, ?it/s]"
      ]
     },
     "metadata": {},
     "output_type": "display_data"
    },
    {
     "data": {
      "application/vnd.jupyter.widget-view+json": {
       "model_id": "0a3ea37baac64d8b9721057934f4d712",
       "version_major": 2,
       "version_minor": 0
      },
      "text/plain": [
       "Batches (Època 14): 0it [00:00, ?it/s]"
      ]
     },
     "metadata": {},
     "output_type": "display_data"
    },
    {
     "data": {
      "application/vnd.jupyter.widget-view+json": {
       "model_id": "4011a7d39a2544189a4f37ff6247f35d",
       "version_major": 2,
       "version_minor": 0
      },
      "text/plain": [
       "Batches (Època 15): 0it [00:00, ?it/s]"
      ]
     },
     "metadata": {},
     "output_type": "display_data"
    },
    {
     "data": {
      "application/vnd.jupyter.widget-view+json": {
       "model_id": "f468ef799be84340b578df8298493860",
       "version_major": 2,
       "version_minor": 0
      },
      "text/plain": [
       "Batches (Època 16): 0it [00:00, ?it/s]"
      ]
     },
     "metadata": {},
     "output_type": "display_data"
    },
    {
     "data": {
      "image/png": "[encoded data removed]",
      "text/plain": [
       "<Figure size 640x480 with 2 Axes>"
      ]
     },
     "metadata": {},
     "output_type": "display_data"
    }
   ],
   "source": [
    "alex.to(device);\n",
    "loss_fn = nn.CrossEntropyLoss()\n",
    "learning_rate = 1e-3\n",
    "optimizer = optim.Adam(alex.parameters(), lr=learning_rate)\n",
    "\n",
    "running_loss, running_test_loss, running_acc, running_test_acc_cnn = train_model(alex, EPOCHS, optimizer, loss_fn, train_loader, test_loader)\n",
    "plot_train_results(running_loss, running_test_loss, running_acc, running_test_acc_cnn, \"AlexNet\")"
   ]
  },
  {
   "cell_type": "markdown",
   "id": "2c0e834f-87b9-467c-af9c-14d91b1395c4",
   "metadata": {},
   "source": [
    "### Classificació amb VGG16"
   ]
  },
  {
   "cell_type": "code",
   "execution_count": 8,
   "id": "49fb3b50-f825-4d62-b53f-15ec752ff2bf",
   "metadata": {},
   "outputs": [
    {
     "name": "stderr",
     "output_type": "stream",
     "text": [
      "C:\\Users\\Toni\\miniconda3\\envs\\iaToni2024\\Lib\\site-packages\\torchvision\\models\\_utils.py:223: UserWarning: Arguments other than a weight enum or `None` for 'weights' are deprecated since 0.13 and may be removed in the future. The current behavior is equivalent to passing `weights=VGG16_Weights.IMAGENET1K_V1`. You can also use `weights=VGG16_Weights.DEFAULT` to get the most up-to-date weights.\n",
      "  warnings.warn(msg)\n"
     ]
    },
    {
     "name": "stdout",
     "output_type": "stream",
     "text": [
      "Arquitectura vgg16:\n",
      "VGG(\n",
      "  (features): Sequential(\n",
      "    (0): Conv2d(3, 64, kernel_size=(3, 3), stride=(1, 1), padding=(1, 1))\n",
      "    (1): ReLU(inplace=True)\n",
      "    (2): Conv2d(64, 64, kernel_size=(3, 3), stride=(1, 1), padding=(1, 1))\n",
      "    (3): ReLU(inplace=True)\n",
      "    (4): MaxPool2d(kernel_size=2, stride=2, padding=0, dilation=1, ceil_mode=False)\n",
      "    (5): Conv2d(64, 128, kernel_size=(3, 3), stride=(1, 1), padding=(1, 1))\n",
      "    (6): ReLU(inplace=True)\n",
      "    (7): Conv2d(128, 128, kernel_size=(3, 3), stride=(1, 1), padding=(1, 1))\n",
      "    (8): ReLU(inplace=True)\n",
      "    (9): MaxPool2d(kernel_size=2, stride=2, padding=0, dilation=1, ceil_mode=False)\n",
      "    (10): Conv2d(128, 256, kernel_size=(3, 3), stride=(1, 1), padding=(1, 1))\n",
      "    (11): ReLU(inplace=True)\n",
      "    (12): Conv2d(256, 256, kernel_size=(3, 3), stride=(1, 1), padding=(1, 1))\n",
      "    (13): ReLU(inplace=True)\n",
      "    (14): Conv2d(256, 256, kernel_size=(3, 3), stride=(1, 1), padding=(1, 1))\n",
      "    (15): ReLU(inplace=True)\n",
      "    (16): MaxPool2d(kernel_size=2, stride=2, padding=0, dilation=1, ceil_mode=False)\n",
      "    (17): Conv2d(256, 512, kernel_size=(3, 3), stride=(1, 1), padding=(1, 1))\n",
      "    (18): ReLU(inplace=True)\n",
      "    (19): Conv2d(512, 512, kernel_size=(3, 3), stride=(1, 1), padding=(1, 1))\n",
      "    (20): ReLU(inplace=True)\n",
      "    (21): Conv2d(512, 512, kernel_size=(3, 3), stride=(1, 1), padding=(1, 1))\n",
      "    (22): ReLU(inplace=True)\n",
      "    (23): MaxPool2d(kernel_size=2, stride=2, padding=0, dilation=1, ceil_mode=False)\n",
      "    (24): Conv2d(512, 512, kernel_size=(3, 3), stride=(1, 1), padding=(1, 1))\n",
      "    (25): ReLU(inplace=True)\n",
      "    (26): Conv2d(512, 512, kernel_size=(3, 3), stride=(1, 1), padding=(1, 1))\n",
      "    (27): ReLU(inplace=True)\n",
      "    (28): Conv2d(512, 512, kernel_size=(3, 3), stride=(1, 1), padding=(1, 1))\n",
      "    (29): ReLU(inplace=True)\n",
      "    (30): MaxPool2d(kernel_size=2, stride=2, padding=0, dilation=1, ceil_mode=False)\n",
      "  )\n",
      "  (avgpool): AdaptiveAvgPool2d(output_size=(7, 7))\n",
      "  (classifier): Sequential(\n",
      "    (0): Linear(in_features=25088, out_features=4096, bias=True)\n",
      "    (1): ReLU(inplace=True)\n",
      "    (2): Dropout(p=0.5, inplace=False)\n",
      "    (3): Linear(in_features=4096, out_features=4096, bias=True)\n",
      "    (4): ReLU(inplace=True)\n",
      "    (5): Dropout(p=0.5, inplace=False)\n",
      "    (6): Linear(in_features=4096, out_features=2, bias=True)\n",
      "  )\n",
      ")\n"
     ]
    }
   ],
   "source": [
    "vgg16 = models.vgg16(weights=True)\n",
    "in_features = vgg16.classifier[6].in_features\n",
    "vgg16.classifier[6] = nn.Linear(in_features, 2)\n",
    "\n",
    "print(\"Arquitectura vgg16:\")\n",
    "print(vgg16)"
   ]
  },
  {
   "cell_type": "code",
   "execution_count": 9,
   "id": "405f1676-7a1b-409a-a572-c13cdd863b08",
   "metadata": {},
   "outputs": [
    {
     "data": {
      "application/vnd.jupyter.widget-view+json": {
       "model_id": "5c0f26ef6d1e401a903dcdc991021cc6",
       "version_major": 2,
       "version_minor": 0
      },
      "text/plain": [
       "Èpoques:   0%|          | 0/16 [00:00<?, ?it/s]"
      ]
     },
     "metadata": {},
     "output_type": "display_data"
    },
    {
     "data": {
      "application/vnd.jupyter.widget-view+json": {
       "model_id": "38e5d403a0094935bc952a72b8543e4c",
       "version_major": 2,
       "version_minor": 0
      },
      "text/plain": [
       "Batches (Època 1): 0it [00:00, ?it/s]"
      ]
     },
     "metadata": {},
     "output_type": "display_data"
    },
    {
     "data": {
      "application/vnd.jupyter.widget-view+json": {
       "model_id": "5f0dee0fb9274067b831eacf5718e1c9",
       "version_major": 2,
       "version_minor": 0
      },
      "text/plain": [
       "Batches (Època 2): 0it [00:00, ?it/s]"
      ]
     },
     "metadata": {},
     "output_type": "display_data"
    },
    {
     "data": {
      "application/vnd.jupyter.widget-view+json": {
       "model_id": "dc25543d0e8d4e0c88959a3ee787822d",
       "version_major": 2,
       "version_minor": 0
      },
      "text/plain": [
       "Batches (Època 3): 0it [00:00, ?it/s]"
      ]
     },
     "metadata": {},
     "output_type": "display_data"
    },
    {
     "data": {
      "application/vnd.jupyter.widget-view+json": {
       "model_id": "4a3326bf71444ddfab818ff6eb951b57",
       "version_major": 2,
       "version_minor": 0
      },
      "text/plain": [
       "Batches (Època 4): 0it [00:00, ?it/s]"
      ]
     },
     "metadata": {},
     "output_type": "display_data"
    },
    {
     "data": {
      "application/vnd.jupyter.widget-view+json": {
       "model_id": "9c726eda12c84294be1019c634468829",
       "version_major": 2,
       "version_minor": 0
      },
      "text/plain": [
       "Batches (Època 5): 0it [00:00, ?it/s]"
      ]
     },
     "metadata": {},
     "output_type": "display_data"
    },
    {
     "data": {
      "application/vnd.jupyter.widget-view+json": {
       "model_id": "f839d52891004c618b0dbcb7cacfc70e",
       "version_major": 2,
       "version_minor": 0
      },
      "text/plain": [
       "Batches (Època 6): 0it [00:00, ?it/s]"
      ]
     },
     "metadata": {},
     "output_type": "display_data"
    },
    {
     "data": {
      "application/vnd.jupyter.widget-view+json": {
       "model_id": "2698f38beab6435aa50daa96799916f5",
       "version_major": 2,
       "version_minor": 0
      },
      "text/plain": [
       "Batches (Època 7): 0it [00:00, ?it/s]"
      ]
     },
     "metadata": {},
     "output_type": "display_data"
    },
    {
     "data": {
      "application/vnd.jupyter.widget-view+json": {
       "model_id": "8b3146e6c73f476a847217f97745d97e",
       "version_major": 2,
       "version_minor": 0
      },
      "text/plain": [
       "Batches (Època 8): 0it [00:00, ?it/s]"
      ]
     },
     "metadata": {},
     "output_type": "display_data"
    },
    {
     "data": {
      "application/vnd.jupyter.widget-view+json": {
       "model_id": "2e4584ff33624c118cc8e2e0cf78b380",
       "version_major": 2,
       "version_minor": 0
      },
      "text/plain": [
       "Batches (Època 9): 0it [00:00, ?it/s]"
      ]
     },
     "metadata": {},
     "output_type": "display_data"
    },
    {
     "data": {
      "application/vnd.jupyter.widget-view+json": {
       "model_id": "52488c38230d4eeeb0e4c91cb616ab7f",
       "version_major": 2,
       "version_minor": 0
      },
      "text/plain": [
       "Batches (Època 10): 0it [00:00, ?it/s]"
      ]
     },
     "metadata": {},
     "output_type": "display_data"
    },
    {
     "data": {
      "application/vnd.jupyter.widget-view+json": {
       "model_id": "30137dcbc2df4ec18151e9af86108c53",
       "version_major": 2,
       "version_minor": 0
      },
      "text/plain": [
       "Batches (Època 11): 0it [00:00, ?it/s]"
      ]
     },
     "metadata": {},
     "output_type": "display_data"
    },
    {
     "data": {
      "application/vnd.jupyter.widget-view+json": {
       "model_id": "47aa9e3a585541ccadab4c6445e13519",
       "version_major": 2,
       "version_minor": 0
      },
      "text/plain": [
       "Batches (Època 12): 0it [00:00, ?it/s]"
      ]
     },
     "metadata": {},
     "output_type": "display_data"
    },
    {
     "data": {
      "application/vnd.jupyter.widget-view+json": {
       "model_id": "568d43249b304ac4a99edba927e94c49",
       "version_major": 2,
       "version_minor": 0
      },
      "text/plain": [
       "Batches (Època 13): 0it [00:00, ?it/s]"
      ]
     },
     "metadata": {},
     "output_type": "display_data"
    },
    {
     "data": {
      "application/vnd.jupyter.widget-view+json": {
       "model_id": "687a609298cb48ba8d0d67c9d1e71963",
       "version_major": 2,
       "version_minor": 0
      },
      "text/plain": [
       "Batches (Època 14): 0it [00:00, ?it/s]"
      ]
     },
     "metadata": {},
     "output_type": "display_data"
    },
    {
     "data": {
      "application/vnd.jupyter.widget-view+json": {
       "model_id": "729cf4d9df1e4ca4aaa01bd26fea1291",
       "version_major": 2,
       "version_minor": 0
      },
      "text/plain": [
       "Batches (Època 15): 0it [00:00, ?it/s]"
      ]
     },
     "metadata": {},
     "output_type": "display_data"
    },
    {
     "data": {
      "application/vnd.jupyter.widget-view+json": {
       "model_id": "a6dfda50f0f440959ba1d906704455cb",
       "version_major": 2,
       "version_minor": 0
      },
      "text/plain": [
       "Batches (Època 16): 0it [00:00, ?it/s]"
      ]
     },
     "metadata": {},
     "output_type": "display_data"
    },
    {
     "data": {
      "image/png": "[encoded data removed]",
      "text/plain": [
       "<Figure size 640x480 with 2 Axes>"
      ]
     },
     "metadata": {},
     "output_type": "display_data"
    }
   ],
   "source": [
    "vgg16.to(device);\n",
    "loss_fn = nn.CrossEntropyLoss()\n",
    "learning_rate = 1e-3\n",
    "optimizer = optim.Adam(vgg16.parameters(), lr=learning_rate)\n",
    "\n",
    "running_loss, running_test_loss, running_acc, running_test_acc_cnn = train_model(vgg16, EPOCHS, optimizer, loss_fn, train_loader, test_loader)\n",
    "plot_train_results(running_loss, running_test_loss, running_acc, running_test_acc_cnn, \"VGG16\")"
   ]
  },
  {
   "cell_type": "markdown",
   "id": "3560d589-1bac-4209-8b4c-a721d41fd5b6",
   "metadata": {},
   "source": [
    "### Classificació amb ResNet"
   ]
  },
  {
   "cell_type": "markdown",
   "id": "e7d10872-e910-462e-a78f-526b0e78ec5f",
   "metadata": {},
   "source": [
    "Al model ResNet es veu una característica: es pot seguir entrenant i a la llarga, obté millors resultats que anteriors models."
   ]
  },
  {
   "cell_type": "code",
   "execution_count": 10,
   "id": "b4191000-ade5-4ead-881f-f54a0b63399b",
   "metadata": {},
   "outputs": [
    {
     "name": "stderr",
     "output_type": "stream",
     "text": [
      "C:\\Users\\Toni\\miniconda3\\envs\\iaToni2024\\Lib\\site-packages\\torchvision\\models\\_utils.py:223: UserWarning: Arguments other than a weight enum or `None` for 'weights' are deprecated since 0.13 and may be removed in the future. The current behavior is equivalent to passing `weights=ResNet50_Weights.IMAGENET1K_V1`. You can also use `weights=ResNet50_Weights.DEFAULT` to get the most up-to-date weights.\n",
      "  warnings.warn(msg)\n"
     ]
    },
    {
     "name": "stdout",
     "output_type": "stream",
     "text": [
      "Arquitectura resnet:\n",
      "ResNet(\n",
      "  (conv1): Conv2d(3, 64, kernel_size=(7, 7), stride=(2, 2), padding=(3, 3), bias=False)\n",
      "  (bn1): BatchNorm2d(64, eps=1e-05, momentum=0.1, affine=True, track_running_stats=True)\n",
      "  (relu): ReLU(inplace=True)\n",
      "  (maxpool): MaxPool2d(kernel_size=3, stride=2, padding=1, dilation=1, ceil_mode=False)\n",
      "  (layer1): Sequential(\n",
      "    (0): Bottleneck(\n",
      "      (conv1): Conv2d(64, 64, kernel_size=(1, 1), stride=(1, 1), bias=False)\n",
      "      (bn1): BatchNorm2d(64, eps=1e-05, momentum=0.1, affine=True, track_running_stats=True)\n",
      "      (conv2): Conv2d(64, 64, kernel_size=(3, 3), stride=(1, 1), padding=(1, 1), bias=False)\n",
      "      (bn2): BatchNorm2d(64, eps=1e-05, momentum=0.1, affine=True, track_running_stats=True)\n",
      "      (conv3): Conv2d(64, 256, kernel_size=(1, 1), stride=(1, 1), bias=False)\n",
      "      (bn3): BatchNorm2d(256, eps=1e-05, momentum=0.1, affine=True, track_running_stats=True)\n",
      "      (relu): ReLU(inplace=True)\n",
      "      (downsample): Sequential(\n",
      "        (0): Conv2d(64, 256, kernel_size=(1, 1), stride=(1, 1), bias=False)\n",
      "        (1): BatchNorm2d(256, eps=1e-05, momentum=0.1, affine=True, track_running_stats=True)\n",
      "      )\n",
      "    )\n",
      "    (1): Bottleneck(\n",
      "      (conv1): Conv2d(256, 64, kernel_size=(1, 1), stride=(1, 1), bias=False)\n",
      "      (bn1): BatchNorm2d(64, eps=1e-05, momentum=0.1, affine=True, track_running_stats=True)\n",
      "      (conv2): Conv2d(64, 64, kernel_size=(3, 3), stride=(1, 1), padding=(1, 1), bias=False)\n",
      "      (bn2): BatchNorm2d(64, eps=1e-05, momentum=0.1, affine=True, track_running_stats=True)\n",
      "      (conv3): Conv2d(64, 256, kernel_size=(1, 1), stride=(1, 1), bias=False)\n",
      "      (bn3): BatchNorm2d(256, eps=1e-05, momentum=0.1, affine=True, track_running_stats=True)\n",
      "      (relu): ReLU(inplace=True)\n",
      "    )\n",
      "    (2): Bottleneck(\n",
      "      (conv1): Conv2d(256, 64, kernel_size=(1, 1), stride=(1, 1), bias=False)\n",
      "      (bn1): BatchNorm2d(64, eps=1e-05, momentum=0.1, affine=True, track_running_stats=True)\n",
      "      (conv2): Conv2d(64, 64, kernel_size=(3, 3), stride=(1, 1), padding=(1, 1), bias=False)\n",
      "      (bn2): BatchNorm2d(64, eps=1e-05, momentum=0.1, affine=True, track_running_stats=True)\n",
      "      (conv3): Conv2d(64, 256, kernel_size=(1, 1), stride=(1, 1), bias=False)\n",
      "      (bn3): BatchNorm2d(256, eps=1e-05, momentum=0.1, affine=True, track_running_stats=True)\n",
      "      (relu): ReLU(inplace=True)\n",
      "    )\n",
      "  )\n",
      "  (layer2): Sequential(\n",
      "    (0): Bottleneck(\n",
      "      (conv1): Conv2d(256, 128, kernel_size=(1, 1), stride=(1, 1), bias=False)\n",
      "      (bn1): BatchNorm2d(128, eps=1e-05, momentum=0.1, affine=True, track_running_stats=True)\n",
      "      (conv2): Conv2d(128, 128, kernel_size=(3, 3), stride=(2, 2), padding=(1, 1), bias=False)\n",
      "      (bn2): BatchNorm2d(128, eps=1e-05, momentum=0.1, affine=True, track_running_stats=True)\n",
      "      (conv3): Conv2d(128, 512, kernel_size=(1, 1), stride=(1, 1), bias=False)\n",
      "      (bn3): BatchNorm2d(512, eps=1e-05, momentum=0.1, affine=True, track_running_stats=True)\n",
      "      (relu): ReLU(inplace=True)\n",
      "      (downsample): Sequential(\n",
      "        (0): Conv2d(256, 512, kernel_size=(1, 1), stride=(2, 2), bias=False)\n",
      "        (1): BatchNorm2d(512, eps=1e-05, momentum=0.1, affine=True, track_running_stats=True)\n",
      "      )\n",
      "    )\n",
      "    (1): Bottleneck(\n",
      "      (conv1): Conv2d(512, 128, kernel_size=(1, 1), stride=(1, 1), bias=False)\n",
      "      (bn1): BatchNorm2d(128, eps=1e-05, momentum=0.1, affine=True, track_running_stats=True)\n",
      "      (conv2): Conv2d(128, 128, kernel_size=(3, 3), stride=(1, 1), padding=(1, 1), bias=False)\n",
      "      (bn2): BatchNorm2d(128, eps=1e-05, momentum=0.1, affine=True, track_running_stats=True)\n",
      "      (conv3): Conv2d(128, 512, kernel_size=(1, 1), stride=(1, 1), bias=False)\n",
      "      (bn3): BatchNorm2d(512, eps=1e-05, momentum=0.1, affine=True, track_running_stats=True)\n",
      "      (relu): ReLU(inplace=True)\n",
      "    )\n",
      "    (2): Bottleneck(\n",
      "      (conv1): Conv2d(512, 128, kernel_size=(1, 1), stride=(1, 1), bias=False)\n",
      "      (bn1): BatchNorm2d(128, eps=1e-05, momentum=0.1, affine=True, track_running_stats=True)\n",
      "      (conv2): Conv2d(128, 128, kernel_size=(3, 3), stride=(1, 1), padding=(1, 1), bias=False)\n",
      "      (bn2): BatchNorm2d(128, eps=1e-05, momentum=0.1, affine=True, track_running_stats=True)\n",
      "      (conv3): Conv2d(128, 512, kernel_size=(1, 1), stride=(1, 1), bias=False)\n",
      "      (bn3): BatchNorm2d(512, eps=1e-05, momentum=0.1, affine=True, track_running_stats=True)\n",
      "      (relu): ReLU(inplace=True)\n",
      "    )\n",
      "    (3): Bottleneck(\n",
      "      (conv1): Conv2d(512, 128, kernel_size=(1, 1), stride=(1, 1), bias=False)\n",
      "      (bn1): BatchNorm2d(128, eps=1e-05, momentum=0.1, affine=True, track_running_stats=True)\n",
      "      (conv2): Conv2d(128, 128, kernel_size=(3, 3), stride=(1, 1), padding=(1, 1), bias=False)\n",
      "      (bn2): BatchNorm2d(128, eps=1e-05, momentum=0.1, affine=True, track_running_stats=True)\n",
      "      (conv3): Conv2d(128, 512, kernel_size=(1, 1), stride=(1, 1), bias=False)\n",
      "      (bn3): BatchNorm2d(512, eps=1e-05, momentum=0.1, affine=True, track_running_stats=True)\n",
      "      (relu): ReLU(inplace=True)\n",
      "    )\n",
      "  )\n",
      "  (layer3): Sequential(\n",
      "    (0): Bottleneck(\n",
      "      (conv1): Conv2d(512, 256, kernel_size=(1, 1), stride=(1, 1), bias=False)\n",
      "      (bn1): BatchNorm2d(256, eps=1e-05, momentum=0.1, affine=True, track_running_stats=True)\n",
      "      (conv2): Conv2d(256, 256, kernel_size=(3, 3), stride=(2, 2), padding=(1, 1), bias=False)\n",
      "      (bn2): BatchNorm2d(256, eps=1e-05, momentum=0.1, affine=True, track_running_stats=True)\n",
      "      (conv3): Conv2d(256, 1024, kernel_size=(1, 1), stride=(1, 1), bias=False)\n",
      "      (bn3): BatchNorm2d(1024, eps=1e-05, momentum=0.1, affine=True, track_running_stats=True)\n",
      "      (relu): ReLU(inplace=True)\n",
      "      (downsample): Sequential(\n",
      "        (0): Conv2d(512, 1024, kernel_size=(1, 1), stride=(2, 2), bias=False)\n",
      "        (1): BatchNorm2d(1024, eps=1e-05, momentum=0.1, affine=True, track_running_stats=True)\n",
      "      )\n",
      "    )\n",
      "    (1): Bottleneck(\n",
      "      (conv1): Conv2d(1024, 256, kernel_size=(1, 1), stride=(1, 1), bias=False)\n",
      "      (bn1): BatchNorm2d(256, eps=1e-05, momentum=0.1, affine=True, track_running_stats=True)\n",
      "      (conv2): Conv2d(256, 256, kernel_size=(3, 3), stride=(1, 1), padding=(1, 1), bias=False)\n",
      "      (bn2): BatchNorm2d(256, eps=1e-05, momentum=0.1, affine=True, track_running_stats=True)\n",
      "      (conv3): Conv2d(256, 1024, kernel_size=(1, 1), stride=(1, 1), bias=False)\n",
      "      (bn3): BatchNorm2d(1024, eps=1e-05, momentum=0.1, affine=True, track_running_stats=True)\n",
      "      (relu): ReLU(inplace=True)\n",
      "    )\n",
      "    (2): Bottleneck(\n",
      "      (conv1): Conv2d(1024, 256, kernel_size=(1, 1), stride=(1, 1), bias=False)\n",
      "      (bn1): BatchNorm2d(256, eps=1e-05, momentum=0.1, affine=True, track_running_stats=True)\n",
      "      (conv2): Conv2d(256, 256, kernel_size=(3, 3), stride=(1, 1), padding=(1, 1), bias=False)\n",
      "      (bn2): BatchNorm2d(256, eps=1e-05, momentum=0.1, affine=True, track_running_stats=True)\n",
      "      (conv3): Conv2d(256, 1024, kernel_size=(1, 1), stride=(1, 1), bias=False)\n",
      "      (bn3): BatchNorm2d(1024, eps=1e-05, momentum=0.1, affine=True, track_running_stats=True)\n",
      "      (relu): ReLU(inplace=True)\n",
      "    )\n",
      "    (3): Bottleneck(\n",
      "      (conv1): Conv2d(1024, 256, kernel_size=(1, 1), stride=(1, 1), bias=False)\n",
      "      (bn1): BatchNorm2d(256, eps=1e-05, momentum=0.1, affine=True, track_running_stats=True)\n",
      "      (conv2): Conv2d(256, 256, kernel_size=(3, 3), stride=(1, 1), padding=(1, 1), bias=False)\n",
      "      (bn2): BatchNorm2d(256, eps=1e-05, momentum=0.1, affine=True, track_running_stats=True)\n",
      "      (conv3): Conv2d(256, 1024, kernel_size=(1, 1), stride=(1, 1), bias=False)\n",
      "      (bn3): BatchNorm2d(1024, eps=1e-05, momentum=0.1, affine=True, track_running_stats=True)\n",
      "      (relu): ReLU(inplace=True)\n",
      "    )\n",
      "    (4): Bottleneck(\n",
      "      (conv1): Conv2d(1024, 256, kernel_size=(1, 1), stride=(1, 1), bias=False)\n",
      "      (bn1): BatchNorm2d(256, eps=1e-05, momentum=0.1, affine=True, track_running_stats=True)\n",
      "      (conv2): Conv2d(256, 256, kernel_size=(3, 3), stride=(1, 1), padding=(1, 1), bias=False)\n",
      "      (bn2): BatchNorm2d(256, eps=1e-05, momentum=0.1, affine=True, track_running_stats=True)\n",
      "      (conv3): Conv2d(256, 1024, kernel_size=(1, 1), stride=(1, 1), bias=False)\n",
      "      (bn3): BatchNorm2d(1024, eps=1e-05, momentum=0.1, affine=True, track_running_stats=True)\n",
      "      (relu): ReLU(inplace=True)\n",
      "    )\n",
      "    (5): Bottleneck(\n",
      "      (conv1): Conv2d(1024, 256, kernel_size=(1, 1), stride=(1, 1), bias=False)\n",
      "      (bn1): BatchNorm2d(256, eps=1e-05, momentum=0.1, affine=True, track_running_stats=True)\n",
      "      (conv2): Conv2d(256, 256, kernel_size=(3, 3), stride=(1, 1), padding=(1, 1), bias=False)\n",
      "      (bn2): BatchNorm2d(256, eps=1e-05, momentum=0.1, affine=True, track_running_stats=True)\n",
      "      (conv3): Conv2d(256, 1024, kernel_size=(1, 1), stride=(1, 1), bias=False)\n",
      "      (bn3): BatchNorm2d(1024, eps=1e-05, momentum=0.1, affine=True, track_running_stats=True)\n",
      "      (relu): ReLU(inplace=True)\n",
      "    )\n",
      "  )\n",
      "  (layer4): Sequential(\n",
      "    (0): Bottleneck(\n",
      "      (conv1): Conv2d(1024, 512, kernel_size=(1, 1), stride=(1, 1), bias=False)\n",
      "      (bn1): BatchNorm2d(512, eps=1e-05, momentum=0.1, affine=True, track_running_stats=True)\n",
      "      (conv2): Conv2d(512, 512, kernel_size=(3, 3), stride=(2, 2), padding=(1, 1), bias=False)\n",
      "      (bn2): BatchNorm2d(512, eps=1e-05, momentum=0.1, affine=True, track_running_stats=True)\n",
      "      (conv3): Conv2d(512, 2048, kernel_size=(1, 1), stride=(1, 1), bias=False)\n",
      "      (bn3): BatchNorm2d(2048, eps=1e-05, momentum=0.1, affine=True, track_running_stats=True)\n",
      "      (relu): ReLU(inplace=True)\n",
      "      (downsample): Sequential(\n",
      "        (0): Conv2d(1024, 2048, kernel_size=(1, 1), stride=(2, 2), bias=False)\n",
      "        (1): BatchNorm2d(2048, eps=1e-05, momentum=0.1, affine=True, track_running_stats=True)\n",
      "      )\n",
      "    )\n",
      "    (1): Bottleneck(\n",
      "      (conv1): Conv2d(2048, 512, kernel_size=(1, 1), stride=(1, 1), bias=False)\n",
      "      (bn1): BatchNorm2d(512, eps=1e-05, momentum=0.1, affine=True, track_running_stats=True)\n",
      "      (conv2): Conv2d(512, 512, kernel_size=(3, 3), stride=(1, 1), padding=(1, 1), bias=False)\n",
      "      (bn2): BatchNorm2d(512, eps=1e-05, momentum=0.1, affine=True, track_running_stats=True)\n",
      "      (conv3): Conv2d(512, 2048, kernel_size=(1, 1), stride=(1, 1), bias=False)\n",
      "      (bn3): BatchNorm2d(2048, eps=1e-05, momentum=0.1, affine=True, track_running_stats=True)\n",
      "      (relu): ReLU(inplace=True)\n",
      "    )\n",
      "    (2): Bottleneck(\n",
      "      (conv1): Conv2d(2048, 512, kernel_size=(1, 1), stride=(1, 1), bias=False)\n",
      "      (bn1): BatchNorm2d(512, eps=1e-05, momentum=0.1, affine=True, track_running_stats=True)\n",
      "      (conv2): Conv2d(512, 512, kernel_size=(3, 3), stride=(1, 1), padding=(1, 1), bias=False)\n",
      "      (bn2): BatchNorm2d(512, eps=1e-05, momentum=0.1, affine=True, track_running_stats=True)\n",
      "      (conv3): Conv2d(512, 2048, kernel_size=(1, 1), stride=(1, 1), bias=False)\n",
      "      (bn3): BatchNorm2d(2048, eps=1e-05, momentum=0.1, affine=True, track_running_stats=True)\n",
      "      (relu): ReLU(inplace=True)\n",
      "    )\n",
      "  )\n",
      "  (avgpool): AdaptiveAvgPool2d(output_size=(1, 1))\n",
      "  (fc): Linear(in_features=2048, out_features=2, bias=True)\n",
      ")\n"
     ]
    }
   ],
   "source": [
    "resnet = models.resnet50(weights=True)\n",
    "in_features = resnet.fc.in_features\n",
    "resnet.fc = nn.Linear(in_features, 2)\n",
    "\n",
    "print(\"Arquitectura resnet:\")\n",
    "print(resnet)"
   ]
  },
  {
   "cell_type": "code",
   "execution_count": 11,
   "id": "2eb5740c-b157-446e-8036-4b66f90eb314",
   "metadata": {},
   "outputs": [
    {
     "data": {
      "application/vnd.jupyter.widget-view+json": {
       "model_id": "d2810374ef0944f2b6b6cc3a32353d23",
       "version_major": 2,
       "version_minor": 0
      },
      "text/plain": [
       "Èpoques:   0%|          | 0/16 [00:00<?, ?it/s]"
      ]
     },
     "metadata": {},
     "output_type": "display_data"
    },
    {
     "data": {
      "application/vnd.jupyter.widget-view+json": {
       "model_id": "8171db02cb1e485bb523d1710c88b831",
       "version_major": 2,
       "version_minor": 0
      },
      "text/plain": [
       "Batches (Època 1): 0it [00:00, ?it/s]"
      ]
     },
     "metadata": {},
     "output_type": "display_data"
    },
    {
     "data": {
      "application/vnd.jupyter.widget-view+json": {
       "model_id": "b0245a471c224bd38dec3eaabf264c35",
       "version_major": 2,
       "version_minor": 0
      },
      "text/plain": [
       "Batches (Època 2): 0it [00:00, ?it/s]"
      ]
     },
     "metadata": {},
     "output_type": "display_data"
    },
    {
     "data": {
      "application/vnd.jupyter.widget-view+json": {
       "model_id": "766393c6631e4bc4b3685035faa42abc",
       "version_major": 2,
       "version_minor": 0
      },
      "text/plain": [
       "Batches (Època 3): 0it [00:00, ?it/s]"
      ]
     },
     "metadata": {},
     "output_type": "display_data"
    },
    {
     "data": {
      "application/vnd.jupyter.widget-view+json": {
       "model_id": "4245000c53cc47b5994b02a6597f1562",
       "version_major": 2,
       "version_minor": 0
      },
      "text/plain": [
       "Batches (Època 4): 0it [00:00, ?it/s]"
      ]
     },
     "metadata": {},
     "output_type": "display_data"
    },
    {
     "data": {
      "application/vnd.jupyter.widget-view+json": {
       "model_id": "323ab51e65ef413087dab3d3953ca1f6",
       "version_major": 2,
       "version_minor": 0
      },
      "text/plain": [
       "Batches (Època 5): 0it [00:00, ?it/s]"
      ]
     },
     "metadata": {},
     "output_type": "display_data"
    },
    {
     "data": {
      "application/vnd.jupyter.widget-view+json": {
       "model_id": "fb45be919def40f29358fd3713fbd218",
       "version_major": 2,
       "version_minor": 0
      },
      "text/plain": [
       "Batches (Època 6): 0it [00:00, ?it/s]"
      ]
     },
     "metadata": {},
     "output_type": "display_data"
    },
    {
     "data": {
      "application/vnd.jupyter.widget-view+json": {
       "model_id": "8bb4cd9d769741a5a3e85adea9406c01",
       "version_major": 2,
       "version_minor": 0
      },
      "text/plain": [
       "Batches (Època 7): 0it [00:00, ?it/s]"
      ]
     },
     "metadata": {},
     "output_type": "display_data"
    },
    {
     "data": {
      "application/vnd.jupyter.widget-view+json": {
       "model_id": "c6475ba9f95c47b8883aaab8788898a1",
       "version_major": 2,
       "version_minor": 0
      },
      "text/plain": [
       "Batches (Època 8): 0it [00:00, ?it/s]"
      ]
     },
     "metadata": {},
     "output_type": "display_data"
    },
    {
     "data": {
      "application/vnd.jupyter.widget-view+json": {
       "model_id": "314b92ec9c4e4f4ca3b3c8fd10e199e0",
       "version_major": 2,
       "version_minor": 0
      },
      "text/plain": [
       "Batches (Època 9): 0it [00:00, ?it/s]"
      ]
     },
     "metadata": {},
     "output_type": "display_data"
    },
    {
     "data": {
      "application/vnd.jupyter.widget-view+json": {
       "model_id": "2333820e45004b66bae9c170ab7d1087",
       "version_major": 2,
       "version_minor": 0
      },
      "text/plain": [
       "Batches (Època 10): 0it [00:00, ?it/s]"
      ]
     },
     "metadata": {},
     "output_type": "display_data"
    },
    {
     "data": {
      "application/vnd.jupyter.widget-view+json": {
       "model_id": "06cfa15b752e4ae5b2d03194790324c1",
       "version_major": 2,
       "version_minor": 0
      },
      "text/plain": [
       "Batches (Època 11): 0it [00:00, ?it/s]"
      ]
     },
     "metadata": {},
     "output_type": "display_data"
    },
    {
     "data": {
      "application/vnd.jupyter.widget-view+json": {
       "model_id": "a1d147dbd8504f498ecdda0bf650a526",
       "version_major": 2,
       "version_minor": 0
      },
      "text/plain": [
       "Batches (Època 12): 0it [00:00, ?it/s]"
      ]
     },
     "metadata": {},
     "output_type": "display_data"
    },
    {
     "data": {
      "application/vnd.jupyter.widget-view+json": {
       "model_id": "0c05c93c8009478ab5557ca98a3a0a62",
       "version_major": 2,
       "version_minor": 0
      },
      "text/plain": [
       "Batches (Època 13): 0it [00:00, ?it/s]"
      ]
     },
     "metadata": {},
     "output_type": "display_data"
    },
    {
     "data": {
      "application/vnd.jupyter.widget-view+json": {
       "model_id": "6d9278a408524b6296886dda636500fe",
       "version_major": 2,
       "version_minor": 0
      },
      "text/plain": [
       "Batches (Època 14): 0it [00:00, ?it/s]"
      ]
     },
     "metadata": {},
     "output_type": "display_data"
    },
    {
     "data": {
      "application/vnd.jupyter.widget-view+json": {
       "model_id": "cc60cd42b80d4a46a193627afad140b4",
       "version_major": 2,
       "version_minor": 0
      },
      "text/plain": [
       "Batches (Època 15): 0it [00:00, ?it/s]"
      ]
     },
     "metadata": {},
     "output_type": "display_data"
    },
    {
     "data": {
      "application/vnd.jupyter.widget-view+json": {
       "model_id": "fa62b13c140349f2b91bb84fa023813c",
       "version_major": 2,
       "version_minor": 0
      },
      "text/plain": [
       "Batches (Època 16): 0it [00:00, ?it/s]"
      ]
     },
     "metadata": {},
     "output_type": "display_data"
    },
    {
     "data": {
      "image/png": "[encoded data removed]",
      "text/plain": [
       "<Figure size 640x480 with 2 Axes>"
      ]
     },
     "metadata": {},
     "output_type": "display_data"
    }
   ],
   "source": [
    "resnet.to(device);\n",
    "loss_fn = nn.CrossEntropyLoss()\n",
    "learning_rate = 1e-3\n",
    "optimizer = optim.Adam(resnet.parameters(), lr=learning_rate)\n",
    "\n",
    "running_loss, running_test_loss, running_acc, running_test_acc_cnn = train_model(resnet, EPOCHS, optimizer, loss_fn, train_loader, test_loader)\n",
    "plot_train_results(running_loss, running_test_loss, running_acc, running_test_acc_cnn, \"ResNet\")"
   ]
  }
 ],
 "metadata": {
  "kernelspec": {
   "display_name": "Python 3 (ipykernel)",
   "language": "python",
   "name": "python3"
  },
  "language_info": {
   "codemirror_mode": {
    "name": "ipython",
    "version": 3
   },
   "file_extension": ".py",
   "mimetype": "text/x-python",
   "name": "python",
   "nbconvert_exporter": "python",
   "pygments_lexer": "ipython3",
   "version": "3.11.10"
  }
 },
 "nbformat": 4,
 "nbformat_minor": 5
}
