{
 "cells": [
  {
   "cell_type": "code",
   "execution_count": 5,
   "id": "6b584de2-6603-4131-8dda-0df8ce51c62c",
   "metadata": {},
   "outputs": [
    {
     "name": "stdout",
     "output_type": "stream",
     "text": [
      "Collecting h5py\n",
      "  Downloading h5py-3.12.1-cp311-cp311-win_amd64.whl.metadata (2.5 kB)\n",
      "Requirement already satisfied: numpy>=1.19.3 in c:\\users\\toni\\miniconda3\\envs\\iatoni2024\\lib\\site-packages (from h5py) (2.0.1)\n",
      "Downloading h5py-3.12.1-cp311-cp311-win_amd64.whl (3.0 MB)\n",
      "   ---------------------------------------- 0.0/3.0 MB ? eta -:--:--\n",
      "   ------------------------ --------------- 1.8/3.0 MB 11.2 MB/s eta 0:00:01\n",
      "   ---------------------------------------- 3.0/3.0 MB 11.0 MB/s eta 0:00:00\n",
      "Installing collected packages: h5py\n",
      "Successfully installed h5py-3.12.1\n"
     ]
    }
   ],
   "source": [
    "!pip install h5py"
   ]
  },
  {
   "cell_type": "code",
   "execution_count": 2,
   "id": "70b50214-9db2-4b90-9bc9-a38176089043",
   "metadata": {},
   "outputs": [
    {
     "name": "stdout",
     "output_type": "stream",
     "text": [
      "Claves en el archivo: dict_keys(['__header__', '__version__', '__globals__', 'box_coord', 'obj_contour'])\n"
     ]
    }
   ],
   "source": [
    "from scipy.io import loadmat\n",
    "\n",
    "# Carga el archivo .MAT\n",
    "file_path = 'data/Annotations/lamp/annotation_0001.mat'  # Reemplaza con la ruta de tu archivo\n",
    "data = loadmat(file_path)\n",
    "\n",
    "# Muestra las claves del archivo .MAT\n",
    "print(\"Claves en el archivo:\", data.keys())"
   ]
  },
  {
   "cell_type": "code",
   "execution_count": 9,
   "id": "f5917119-1ff7-4d13-9c11-44a4ec19b564",
   "metadata": {},
   "outputs": [
    {
     "name": "stdout",
     "output_type": "stream",
     "text": [
      "Forma de la variable: (1, 4)\n",
      "Valores de la variable:\n",
      " [[  7 287  30 216]]\n"
     ]
    }
   ],
   "source": [
    "# Supongamos que el archivo contiene una variable llamada 'mi_variable'\n",
    "mi_variable = data['box_coord']\n",
    "\n",
    "# Imprime la forma y los valores de la variable\n",
    "print(\"Forma de la variable:\", mi_variable.shape)\n",
    "print(\"Valores de la variable:\\n\", mi_variable)"
   ]
  }
 ],
 "metadata": {
  "kernelspec": {
   "display_name": "Python 3 (ipykernel)",
   "language": "python",
   "name": "python3"
  },
  "language_info": {
   "codemirror_mode": {
    "name": "ipython",
    "version": 3
   },
   "file_extension": ".py",
   "mimetype": "text/x-python",
   "name": "python",
   "nbconvert_exporter": "python",
   "pygments_lexer": "ipython3",
   "version": "3.11.10"
  }
 },
 "nbformat": 4,
 "nbformat_minor": 5
}
