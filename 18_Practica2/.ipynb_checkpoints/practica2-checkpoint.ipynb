{
 "cells": [
  {
   "cell_type": "code",
   "execution_count": 1,
   "id": "16c10140-348c-46b6-a90e-3f3ed0a44e2f",
   "metadata": {},
   "outputs": [
    {
     "data": {
      "text/html": [
       "<link rel= \"stylesheet\" type= \"text/css\" href= \"style.css\">\n"
      ],
      "text/plain": [
       "<IPython.core.display.HTML object>"
      ]
     },
     "metadata": {},
     "output_type": "display_data"
    }
   ],
   "source": [
    "%%html\n",
    "<link rel= \"stylesheet\" type= \"text/css\" href= \"style.css\">"
   ]
  },
  {
   "cell_type": "markdown",
   "id": "b0bfb8cd-588e-41c2-8c63-153049cd608e",
   "metadata": {},
   "source": [
    "# <div class = \"title\">Pràctica 2 <br> Classificació, detecció i Segmentació al Caltech </div>\n",
    "## <div class = \"sub-title\">Segona pràctica d'Aprenentatge automàtic amb xarxes neuronals</div>\n",
    "### <div class = \"subsub-title\">Aprenentatge automàtic 2024-25</div>\n",
    "\n",
    "<div style=\"text-align: center;\">\n",
    "    <img src=\"img/portada2.png\" align=\"justify\" width=\"65%\" class=\"border\"/>\n",
    "    \n",
    "    Antoni Frau Gordiola - 43482642S\n",
    "    Miquel Oliver Alcayde - 43482642S\n",
    "</div>"
   ]
  },
  {
   "cell_type": "markdown",
   "id": "4979053b-eafc-4757-8f63-9f39702349c0",
   "metadata": {},
   "source": [
    "## Funcions auxiliars\n",
    "\n",
    "<p>El primer de tot són les funcions i <em>imports</em> que ens ajudaran a llegir les dades i anotacions, tractar-les si fa falta, visualitzats, etc. També si en algun moment s'usa una funció auxiliar, es trobarà aquí. Part d'aquesta secció ha estat proporcionada pels professors i material docent.</p>"
   ]
  },
  {
   "cell_type": "code",
   "execution_count": 2,
   "id": "03db09cf-60de-4d41-8fa2-880460b4c42d",
   "metadata": {},
   "outputs": [],
   "source": [
    "import os\n",
    "import numpy as np\n",
    "import random\n",
    "import imageio.v2 as imageio\n",
    "from skimage.io import imread\n",
    "from skimage.transform import resize\n",
    "import matplotlib.pyplot as plt\n",
    "from sklearn.model_selection import train_test_split\n",
    "# ---\n",
    "from tqdm.auto import tqdm\n",
    "import torch\n",
    "from torch import nn\n",
    "import torch.optim as optim\n",
    "from torchvision import datasets, models, transforms\n",
    "\n",
    "from torch.utils.data import DataLoader\n",
    "from torchvision.datasets import ImageFolder\n",
    "from sklearn.metrics import accuracy_score\n",
    "\n",
    "from PIL import Image"
   ]
  },
  {
   "cell_type": "code",
   "execution_count": 97,
   "id": "9e181433-3c51-4527-8f7b-443f96614e6d",
   "metadata": {},
   "outputs": [],
   "source": [
    "# GENERAR DATA AUGMENTATION Y GUARDAR\n",
    "\n",
    "# Transformacions\n",
    "data_transforms = transforms.Compose([\n",
    "    transforms.RandomAffine(degrees=0, translate=(0.15, 0.15), scale=None, shear=None), #Translació en vertical i horitzontal\n",
    "    transforms.RandomHorizontalFlip(p=0.5),                                           # Flip horitzontal\n",
    "    transforms.ColorJitter(brightness=0.4, contrast=0.4),                             # Adjust de color\n",
    "    #transforms.RandomRotation(30),                                                   # Rotació aleatòria fins a 30 graus\n",
    "    #transforms.RandomResizedCrop(size=(64, 64), scale=(0.9, 1.0)),                   # Retall aleatori\n",
    "    transforms.ToTensor(),                                                            # Convertir a tensor\n",
    "])\n",
    "\n",
    "# Llegir el dataset\n",
    "dataset = ImageFolder(root=\"data/101_ObjectCategories/train\", transform=data_transforms)\n",
    "\n",
    "input_dir = \"data/101_ObjectCategories/train\"\n",
    "output_dir = \"data/101_ObjectCategories/train_transform\"\n",
    "os.makedirs(output_dir, exist_ok=True)\n",
    "\n",
    "for i, (image, label) in enumerate(dataset):\n",
    "    # Recuperar el nom de la subcarpeta (la classe de la imatge)\n",
    "    class_name = dataset.classes[label]\n",
    "    \n",
    "    # Crear/assignar la carpeta per a cada classe\n",
    "    class_folder = os.path.join(output_dir, class_name)\n",
    "    os.makedirs(class_folder, exist_ok=True)\n",
    "    \n",
    "    # Convertir el tensor a imatge \n",
    "    image_pil = transforms.ToPILImage()(image)\n",
    "    \n",
    "    # Guardar la imatge\n",
    "    image_name = f\"{class_name}_{i+100}.jpg\"\n",
    "    image_pil.save(os.path.join(class_folder, image_name))"
   ]
  },
  {
   "cell_type": "code",
   "execution_count": 51,
   "id": "64aaa687-1fbc-4fa9-a8aa-122804a2b97f",
   "metadata": {},
   "outputs": [
    {
     "name": "stdout",
     "output_type": "stream",
     "text": [
      "Mean: tensor([0.5528, 0.5267, 0.4900])\n",
      "Std: tensor([0.3080, 0.3099, 0.3042])\n"
     ]
    }
   ],
   "source": [
    "# Inicializar acumuladores\n",
    "num_samples = 0\n",
    "channel_sum = torch.zeros(3)\n",
    "channel_sum_squared = torch.zeros(3)\n",
    "\n",
    "for images, _ in train_loader:\n",
    "    num_samples += images.size(0)  # Incrementar número de imágenes\n",
    "    channel_sum += images.sum(dim=[0, 2, 3])  # Sumar valores por canal\n",
    "    channel_sum_squared += (images ** 2).sum(dim=[0, 2, 3])  # Sumar cuadrados de valores por canal\n",
    "\n",
    "# Calcular la media y desviación estándar\n",
    "mean = channel_sum / (num_samples * images.size(2) * images.size(3))\n",
    "std = torch.sqrt(channel_sum_squared / (num_samples * images.size(2) * images.size(3)) - mean ** 2)\n",
    "\n",
    "print(f\"Mean: {mean}\")\n",
    "print(f\"Std: {std}\")"
   ]
  },
  {
   "cell_type": "markdown",
   "id": "914b2db3-019d-4277-8281-3830e64bf566",
   "metadata": {},
   "source": [
    "# Introducció al problema"
   ]
  },
  {
   "cell_type": "markdown",
   "id": "2ffc5b04-856e-4a03-a365-efde7e6820a1",
   "metadata": {},
   "source": [
    "L'objectiu d'aquesta pràctica és dissenyar, entrenar i avaluar models basats en xarxes neuronals per abordar diverses tasques relacionades amb el reconeixement d'objectes en imatges. Per fer-ho, es fa servir un subconjunt de dades del **Caltech 101**, àmpliament utilitzat en investigacions relacionades amb la visió per computador i l'aprenentatge profund. El conjunt de dades inclou imatges organitzades en 101 categories d'objectes, com ara flors, animals, vehicles, electrodomèstics i altres objectes quotidians, però les tasques es faran en relació amb només dues de les classes.\n",
    "\n",
    "En aquesta pràctica, l'enfocament se centra a treballar amb les dues categories específiques aportades pel professorat: **làmpades i bitllets de dòlar**, que de primera mà pareixen objectes visualment molt diferents. Aquest contrast serà útil tant per avaluar el rendiment dels models com per analitzar-ne els punts forts i febles en tasques específiques.\n",
    "\n",
    "Característiques del conjunt de dades Caltech 101:\n",
    "- Conté aproximadament 9.100 imatges distribuïdes en diferents categories.\n",
    "- El nombre d'imatges per categoria és desigual i varia entre 40 i 800 imatges per classe, amb una mitjana aproximada de 50 imatges per categoria. Això significa que pot ser les classes no estiguin equilibrades.\n",
    "- Les imatges són de resolució baixa, amb mides que oscil·len entre 200x200 i 300x300 píxels.\n",
    "- Cada imatge pertany a una única categoria, cosa que simplifica l'organització de les etiquetes.\n",
    "\n",
    "Objectiu general de la pràctica:\n",
    "A partir d'aquest conjunt de dades, hem d'implementar models de xarxes neuronals capaços d'abordar les tasques següents:\n",
    "\n",
    "1. Classificació d'objectes: Identificar correctament a quina classe pertany un objecte dins una imatge.\n",
    "2. Detecció d'objectes: Localitzar la posició de l'objecte dins la imatge utilitzant bounding boxes.\n",
    "3. Segmentació d'objectes: Separar l'objecte del vostre entorn, creant una màscara que destaqui la vostra àrea exacta dins la imatge.\n",
    "4. Explicabilitat dels models: Aplicar mètodes d'interpretabilitat per comprendre millor les decisions preses pels models i avaluar-ne la fiabilitat. Aquest apartat és extra.\n",
    "\n",
    "En el cas concret d'aquesta pràctica, en haver assignat les categories de làmpades i bitllets de dòlar, se cercarà explorar com els models responen davant de categories amb formes, colors i patrons visuals clarament diferenciats. Aquest contrast creim que facilitarà la comparació del rendiment dels models entrenats, tant en termes de precisió com en altres indicadors clau com el temps d'inferència, robustesa davant de dades possiblement desbalancejades i la interpretabilitat de les prediccions.\n",
    "\n",
    "Els models que s'usaran per a les anteriors tasques són:\n",
    "\n",
    "1. Classificació\n",
    "    1. **AlexNet**: Perquè, com hem vist a l'assignatura, és una xarxa neuronal convolucional destacada, que va revolucionar el camp de l'aprenentatge profund després de guanyar el concurs ImageNet el 2012. La seva arquitectura, basada en múltiples capes convolucionals, max-pooling i activacions ReLU, la fa ideal per extreure característiques complexes de les imatges. La seva eficàcia en tasques de classificació la converteix en una excel·lent opció per fer fine-tuning i adaptar-la a les classes \"làmpada\" i \"bitllet de dòlar\". A més, creim que és una bona opció per començar, ja que ja l'hem usada a classe.\n",
    "    2. **VGG16**: Perquè és una xarxa neuronal convolucional que destaca per la seva arquitectura profunda i senzilla, composta per capes convolucionals amb filtres petits i blocs seguits de max-pooling. Aquesta estructura permet extreure característiques molt detallades i jeràrquiques de les imatges, cosa que la fa especialment adequada per a tasques de classificació. A més, també és una xarxa vista a classe, pel que hem vist que el disseny modular que té facilita el fine-tuning.\n",
    "    3. **ResNet50**: Aquesta perquè és una xarxa neuronal convolucional coneguda pel seu innovador disseny, basat en blocs residuals. Això permet entrenar xarxes molt profundes en solucionar el problema de l'esvaïment del gradient, facilitant que les capes aprenguin millor fins i tot en arquitectures complexes, com és aquesta i no la de 18 capes, vista a classe. Com té bona capacitat per capturar característiques detallades i fer tasques de classificació, creim que és ideal per adaptar mitjançant fine-tuning i arribar un poc més enllà a la classificació.\n",
    "    4. **Custom**: També s'ha d'implementar una xarxa *custom*, de forma que segurament la farem basant-mos en altres xarxes que ja existeixen, però s'aprofundirà a l'apartat corresponent. Aquest resultat és el que veim més inesperat, ja que no tenim cap base, i poden sortir resultats molts diversos.\n",
    "2. Detecció\n",
    "    1. **YOLO**: És una xarxa vista a l'assignatura, i sabem que és un model extremadament ràpid i precís, dissenyat per processar imatges en temps real. A diferència d'altres mètodes, YOLO divideix la imatge en una quadrícula i prediu simultàniament les bounding boxes i les classes dels objectes, cosa que el fa eficient i adequat per a tasques on la rapidesa és clau. En aquest cas l'exercici no ho demana, però si cal fer fine-tuning, aquest model és adaptable i de forma molt senzilla.\n",
    "    2. **UNET?**: \n",
    "3. Segmentació\n",
    "    1. **Mask-RCNN**\n",
    "    2. **SAM**\n",
    "    3. **YOLO?**"
   ]
  },
  {
   "cell_type": "markdown",
   "id": "99029e86-acfe-4cc9-9e86-18f590b4307f",
   "metadata": {},
   "source": [
    "# Primeres passes, metodologia"
   ]
  },
  {
   "cell_type": "markdown",
   "id": "b3c4b5be-3946-433e-9f3f-a7b3786002cc",
   "metadata": {},
   "source": [
    "## Anàlisi de les dades\n",
    "\n",
    "Resize de les imatges amb https://redketchup.io/bulk-image-resizer\n",
    "\n",
    "Primer de tot es carreguen les imatges i anotacions corresponents, i amb una mida adequada (es considera que 128×128 és suficient per interpretar-ho tant el model com l'humà).\n",
    "\n",
    "El que es fa abans d'entrenar el model final, és cercar els millors paràmetres de les configuracions pels models amb **linear**, **RBF** i **poly**. S'avança que aquests seran els models amb es que es realitzarà la pràctica. Per triar aquests millors paràmetres es farà la cerca exhaustiva amb **k-fold** i **GridSearch**, i per tant el més raonable és cercar la millor configuració amb un subconjunt de les dades inicials. S'ha fet una cerca amb aproximadament el **20%** del total, i per fer aquesta separació s'ha usat `train_test_split`. D'aquesta forma es genera `sub_imatges`, que representarà el subconjunt de les dades totals per a la cerca dels paràmetres. Es destaca que sempre que s'usi aquesta terminologia(*sub*)) fa referència al subconjunt del 20%."
   ]
  },
  {
   "cell_type": "code",
   "execution_count": 71,
   "id": "dd01ca62-e4f3-424d-ac09-d3df8e151e5d",
   "metadata": {},
   "outputs": [],
   "source": [
    "BATCH_SIZE = 16\n",
    "EPOCHS = 16\n",
    "\n",
    "transform = transforms.Compose([\n",
    "    transforms.Resize((224, 224)),\n",
    "    transforms.ToTensor(),\n",
    "    transforms.Normalize(mean=[0.5528, 0.5267, 0.4900], std=[0.3080, 0.3099, 0.3042])\n",
    "])\n",
    "\n",
    "train = datasets.ImageFolder('data/101_ObjectCategories/train', transform=transform)\n",
    "test = datasets.ImageFolder('data/101_ObjectCategories/test', transform=transform)\n",
    "\n",
    "train_loader = torch.utils.data.DataLoader(train, batch_size=BATCH_SIZE, shuffle=True)\n",
    "test_loader = torch.utils.data.DataLoader(test, batch_size=BATCH_SIZE, shuffle=True)"
   ]
  },
  {
   "cell_type": "code",
   "execution_count": 72,
   "id": "2fd1606d-5b6b-47e8-ae76-b7bf5ee9996c",
   "metadata": {},
   "outputs": [
    {
     "name": "stdout",
     "output_type": "stream",
     "text": [
      "torch.Size([32, 3, 224, 224]) tensor([1, 1, 0, 1, 0, 0, 1, 0, 0, 1, 0, 0, 1, 1, 1, 0, 1, 1, 1, 1, 0, 1, 0, 1,\n",
      "        1, 0, 1, 0, 0, 0, 1, 1])\n"
     ]
    },
    {
     "data": {
      "text/plain": [
       "Text(0.5, 1.0, 'tensor(1)')"
      ]
     },
     "execution_count": 72,
     "metadata": {},
     "output_type": "execute_result"
    },
    {
     "data": {
      "image/png": "[encoded data removed]",
      "text/plain": [
       "<Figure size 640x480 with 1 Axes>"
      ]
     },
     "metadata": {},
     "output_type": "display_data"
    }
   ],
   "source": [
    "img, target = next(iter(train_loader))\n",
    "print(img.shape, target)\n",
    "plt.imshow(img[0, 0], cmap='gray')\n",
    "plt.title(target[0])"
   ]
  },
  {
   "cell_type": "markdown",
   "id": "b8f5bf01-6521-421c-9ee8-a15d249d3684",
   "metadata": {},
   "source": [
    "## Models emprats\n",
    "\n",
    "Explicar models"
   ]
  },
  {
   "cell_type": "markdown",
   "id": "22226148-e2d7-4cab-a4fa-0b54cf926fce",
   "metadata": {},
   "source": [
    "## Mètriques\n",
    "\n",
    "Explicar mètriques"
   ]
  },
  {
   "cell_type": "markdown",
   "id": "97ee93d9-c119-44a9-ba30-6441dd062293",
   "metadata": {},
   "source": [
    "# Exercicis i experiments"
   ]
  },
  {
   "cell_type": "markdown",
   "id": "96a97496-0c53-4aa3-bdad-90b9b96a07a7",
   "metadata": {},
   "source": [
    "## Classificació"
   ]
  },
  {
   "cell_type": "markdown",
   "id": "54239f53-17e4-491a-b2b8-8c9d9f632da3",
   "metadata": {},
   "source": [
    "### Classificació amb AlexNet\n",
    "\n",
    "Explicació de classificació amb AlexNet"
   ]
  },
  {
   "cell_type": "code",
   "execution_count": 27,
   "id": "68ca4f4d-8498-4b3c-93fc-f34a3f6deda6",
   "metadata": {},
   "outputs": [],
   "source": [
    "class ResidualBlock(nn.Module):\n",
    "    def __init__(self, in_channels, out_channels) -> None:\n",
    "        super().__init__()\n",
    "        self.conv1 = nn.Conv2d(\n",
    "            in_channels=in_channels,\n",
    "            out_channels=out_channels,\n",
    "            kernel_size=(3, 3),\n",
    "            padding='same',\n",
    "            bias=False\n",
    "        )\n",
    "        self.bn1 = nn.BatchNorm2d(out_channels)\n",
    "        self.relu = nn.ReLU()\n",
    "        self.conv2 = nn.Conv2d(\n",
    "            in_channels=out_channels,\n",
    "            out_channels=out_channels,\n",
    "            kernel_size=(3, 3),\n",
    "            padding='same',\n",
    "            bias=False\n",
    "        )\n",
    "        self.bn2 = nn.BatchNorm2d(out_channels)\n",
    "\n",
    "        self.downsample = None\n",
    "        if in_channels != out_channels:\n",
    "            self.downsample = nn.Sequential(\n",
    "                nn.Conv2d(\n",
    "                    in_channels,\n",
    "                    out_channels,\n",
    "                    kernel_size=(3, 3),\n",
    "                    padding='same',\n",
    "                    bias=False\n",
    "                ),\n",
    "                nn.BatchNorm2d(out_channels)\n",
    "            )\n",
    "\n",
    "    def forward(self, x):\n",
    "        identity = self.downsample(x) if self.downsample else x\n",
    "\n",
    "        x = self.conv1(x)\n",
    "        x = self.bn1(x)\n",
    "        x = self.relu(x)\n",
    "        x = self.conv2(x)\n",
    "        x = self.bn2(x)\n",
    "        x = self.relu(x + identity)\n",
    "\n",
    "        return x"
   ]
  },
  {
   "cell_type": "code",
   "execution_count": 85,
   "id": "1edef031-1924-4193-bc45-795f9243360f",
   "metadata": {},
   "outputs": [
    {
     "name": "stderr",
     "output_type": "stream",
     "text": [
      "C:\\Users\\Toni\\miniconda3\\envs\\iaToni2024\\Lib\\site-packages\\torchvision\\models\\_utils.py:223: UserWarning: Arguments other than a weight enum or `None` for 'weights' are deprecated since 0.13 and may be removed in the future. The current behavior is equivalent to passing `weights=AlexNet_Weights.IMAGENET1K_V1`. You can also use `weights=AlexNet_Weights.DEFAULT` to get the most up-to-date weights.\n",
      "  warnings.warn(msg)\n"
     ]
    },
    {
     "name": "stdout",
     "output_type": "stream",
     "text": [
      "Arquitectura AlexNet:\n",
      "AlexNet(\n",
      "  (features): Sequential(\n",
      "    (0): Conv2d(3, 64, kernel_size=(11, 11), stride=(4, 4), padding=(2, 2))\n",
      "    (1): ReLU(inplace=True)\n",
      "    (2): MaxPool2d(kernel_size=3, stride=2, padding=0, dilation=1, ceil_mode=False)\n",
      "    (3): Conv2d(64, 192, kernel_size=(5, 5), stride=(1, 1), padding=(2, 2))\n",
      "    (4): ReLU(inplace=True)\n",
      "    (5): MaxPool2d(kernel_size=3, stride=2, padding=0, dilation=1, ceil_mode=False)\n",
      "    (6): Conv2d(192, 384, kernel_size=(3, 3), stride=(1, 1), padding=(1, 1))\n",
      "    (7): ReLU(inplace=True)\n",
      "    (8): Conv2d(384, 256, kernel_size=(3, 3), stride=(1, 1), padding=(1, 1))\n",
      "    (9): ReLU(inplace=True)\n",
      "    (10): Conv2d(256, 256, kernel_size=(3, 3), stride=(1, 1), padding=(1, 1))\n",
      "    (11): ReLU(inplace=True)\n",
      "    (12): MaxPool2d(kernel_size=3, stride=2, padding=0, dilation=1, ceil_mode=False)\n",
      "  )\n",
      "  (avgpool): AdaptiveAvgPool2d(output_size=(6, 6))\n",
      "  (classifier): Sequential(\n",
      "    (0): Dropout(p=0.5, inplace=False)\n",
      "    (1): Linear(in_features=9216, out_features=8192, bias=True)\n",
      "    (2): ReLU()\n",
      "    (3): Dropout(p=0.5, inplace=False)\n",
      "    (4): Linear(in_features=8192, out_features=4096, bias=True)\n",
      "    (5): ReLU()\n",
      "    (6): Linear(in_features=4096, out_features=512, bias=True)\n",
      "    (7): ReLU()\n",
      "    (8): Linear(in_features=512, out_features=2, bias=True)\n",
      "  )\n",
      ")\n"
     ]
    }
   ],
   "source": [
    "alex = models.alexnet(weights=True)\n",
    "in_features = alex.classifier[1].in_features\n",
    "\n",
    "alex.classifier = nn.Sequential(\n",
    "    torch.nn.Dropout(p=0.5),\n",
    "    torch.nn.Linear(in_features, 8192),\n",
    "    torch.nn.ReLU(),\n",
    "    torch.nn.Dropout(p=0.5),\n",
    "    torch.nn.Linear(in_features=8192, out_features=4096),\n",
    "    torch.nn.ReLU(),\n",
    "    torch.nn.Linear(in_features=4096, out_features=512),\n",
    "    torch.nn.ReLU(),\n",
    "    torch.nn.Linear(in_features=512, out_features=2) # 2 clases finales\n",
    ")\n",
    "\n",
    "print(\"Arquitectura AlexNet:\")\n",
    "print(alex)"
   ]
  },
  {
   "cell_type": "code",
   "execution_count": 79,
   "id": "ad4739ae-e893-4fb1-a350-5de9c76cbaba",
   "metadata": {},
   "outputs": [
    {
     "data": {
      "text/plain": [
       "AlexNet(\n",
       "  (features): Sequential(\n",
       "    (0): Conv2d(3, 64, kernel_size=(11, 11), stride=(4, 4), padding=(2, 2))\n",
       "    (1): ReLU(inplace=True)\n",
       "    (2): MaxPool2d(kernel_size=3, stride=2, padding=0, dilation=1, ceil_mode=False)\n",
       "    (3): Conv2d(64, 192, kernel_size=(5, 5), stride=(1, 1), padding=(2, 2))\n",
       "    (4): ReLU(inplace=True)\n",
       "    (5): MaxPool2d(kernel_size=3, stride=2, padding=0, dilation=1, ceil_mode=False)\n",
       "    (6): Conv2d(192, 384, kernel_size=(3, 3), stride=(1, 1), padding=(1, 1))\n",
       "    (7): ReLU(inplace=True)\n",
       "    (8): Conv2d(384, 256, kernel_size=(3, 3), stride=(1, 1), padding=(1, 1))\n",
       "    (9): ReLU(inplace=True)\n",
       "    (10): Conv2d(256, 256, kernel_size=(3, 3), stride=(1, 1), padding=(1, 1))\n",
       "    (11): ReLU(inplace=True)\n",
       "    (12): MaxPool2d(kernel_size=3, stride=2, padding=0, dilation=1, ceil_mode=False)\n",
       "    (13): ResidualBlock(\n",
       "      (conv1): Conv2d(256, 512, kernel_size=(3, 3), stride=(1, 1), padding=same, bias=False)\n",
       "      (bn1): BatchNorm2d(512, eps=1e-05, momentum=0.1, affine=True, track_running_stats=True)\n",
       "      (relu): ReLU()\n",
       "      (conv2): Conv2d(512, 512, kernel_size=(3, 3), stride=(1, 1), padding=same, bias=False)\n",
       "      (bn2): BatchNorm2d(512, eps=1e-05, momentum=0.1, affine=True, track_running_stats=True)\n",
       "      (downsample): Sequential(\n",
       "        (0): Conv2d(256, 512, kernel_size=(3, 3), stride=(1, 1), padding=same, bias=False)\n",
       "        (1): BatchNorm2d(512, eps=1e-05, momentum=0.1, affine=True, track_running_stats=True)\n",
       "      )\n",
       "    )\n",
       "    (14): ResidualBlock(\n",
       "      (conv1): Conv2d(512, 256, kernel_size=(3, 3), stride=(1, 1), padding=same, bias=False)\n",
       "      (bn1): BatchNorm2d(256, eps=1e-05, momentum=0.1, affine=True, track_running_stats=True)\n",
       "      (relu): ReLU()\n",
       "      (conv2): Conv2d(256, 256, kernel_size=(3, 3), stride=(1, 1), padding=same, bias=False)\n",
       "      (bn2): BatchNorm2d(256, eps=1e-05, momentum=0.1, affine=True, track_running_stats=True)\n",
       "      (downsample): Sequential(\n",
       "        (0): Conv2d(512, 256, kernel_size=(3, 3), stride=(1, 1), padding=same, bias=False)\n",
       "        (1): BatchNorm2d(256, eps=1e-05, momentum=0.1, affine=True, track_running_stats=True)\n",
       "      )\n",
       "    )\n",
       "  )\n",
       "  (avgpool): AdaptiveAvgPool2d(output_size=(6, 6))\n",
       "  (classifier): Sequential(\n",
       "    (0): Dropout(p=0.5, inplace=False)\n",
       "    (1): Linear(in_features=9216, out_features=4096, bias=True)\n",
       "    (2): ReLU(inplace=True)\n",
       "    (3): Dropout(p=0.5, inplace=False)\n",
       "    (4): Linear(in_features=4096, out_features=4096, bias=True)\n",
       "    (5): ReLU(inplace=True)\n",
       "    (6): Linear(in_features=4096, out_features=2, bias=True)\n",
       "  )\n",
       ")"
      ]
     },
     "execution_count": 79,
     "metadata": {},
     "output_type": "execute_result"
    }
   ],
   "source": [
    "alex.features.append(ResidualBlock(256, 512))\n",
    "alex.features.append(ResidualBlock(512, 256))\n",
    "alex"
   ]
  },
  {
   "cell_type": "code",
   "execution_count": 86,
   "id": "c6732435-e083-4460-8f49-e492352c6053",
   "metadata": {},
   "outputs": [],
   "source": [
    "device = torch.device(\"cuda\" if torch.cuda.is_available() else \"cpu\")\n",
    "alex.to(device);"
   ]
  },
  {
   "cell_type": "code",
   "execution_count": 87,
   "id": "d542baaf-df7b-4216-9bfc-13da0b3893bd",
   "metadata": {},
   "outputs": [],
   "source": [
    "loss_fn = nn.CrossEntropyLoss()\n",
    "learning_rate = 1e-3\n",
    "optimizer = optim.Adam(alex.parameters(), lr=learning_rate)"
   ]
  },
  {
   "cell_type": "code",
   "execution_count": 88,
   "id": "55792618-3cfc-4aaa-85f1-a700913b590f",
   "metadata": {},
   "outputs": [
    {
     "data": {
      "application/vnd.jupyter.widget-view+json": {
       "model_id": "bab51b66ee004d3ca73c91d67b84908a",
       "version_major": 2,
       "version_minor": 0
      },
      "text/plain": [
       "Èpoques:   0%|          | 0/20 [00:00<?, ?it/s]"
      ]
     },
     "metadata": {},
     "output_type": "display_data"
    },
    {
     "data": {
      "application/vnd.jupyter.widget-view+json": {
       "model_id": "33785b10e68f4b0b869fc1266e523b75",
       "version_major": 2,
       "version_minor": 0
      },
      "text/plain": [
       "Batches (Època 1): 0it [00:00, ?it/s]"
      ]
     },
     "metadata": {},
     "output_type": "display_data"
    },
    {
     "data": {
      "application/vnd.jupyter.widget-view+json": {
       "model_id": "9d6b3efc74c843f6bd9f34fbed874976",
       "version_major": 2,
       "version_minor": 0
      },
      "text/plain": [
       "Batches (Època 2): 0it [00:00, ?it/s]"
      ]
     },
     "metadata": {},
     "output_type": "display_data"
    },
    {
     "data": {
      "application/vnd.jupyter.widget-view+json": {
       "model_id": "0573e7a6bdf44967b6d2a7f8ef5650f0",
       "version_major": 2,
       "version_minor": 0
      },
      "text/plain": [
       "Batches (Època 3): 0it [00:00, ?it/s]"
      ]
     },
     "metadata": {},
     "output_type": "display_data"
    },
    {
     "data": {
      "application/vnd.jupyter.widget-view+json": {
       "model_id": "a19438954f4247dc9fe0376a3ee8e58c",
       "version_major": 2,
       "version_minor": 0
      },
      "text/plain": [
       "Batches (Època 4): 0it [00:00, ?it/s]"
      ]
     },
     "metadata": {},
     "output_type": "display_data"
    },
    {
     "data": {
      "application/vnd.jupyter.widget-view+json": {
       "model_id": "e9994887b8684ed297373b6437764fd9",
       "version_major": 2,
       "version_minor": 0
      },
      "text/plain": [
       "Batches (Època 5): 0it [00:00, ?it/s]"
      ]
     },
     "metadata": {},
     "output_type": "display_data"
    },
    {
     "data": {
      "application/vnd.jupyter.widget-view+json": {
       "model_id": "f94e098fc4084a4cba3c5f2be962af43",
       "version_major": 2,
       "version_minor": 0
      },
      "text/plain": [
       "Batches (Època 6): 0it [00:00, ?it/s]"
      ]
     },
     "metadata": {},
     "output_type": "display_data"
    },
    {
     "data": {
      "application/vnd.jupyter.widget-view+json": {
       "model_id": "fdaeac39e2b740d8b5dd1e94a00435eb",
       "version_major": 2,
       "version_minor": 0
      },
      "text/plain": [
       "Batches (Època 7): 0it [00:00, ?it/s]"
      ]
     },
     "metadata": {},
     "output_type": "display_data"
    },
    {
     "data": {
      "application/vnd.jupyter.widget-view+json": {
       "model_id": "edd83ea7add54f1181bcf6f1e2d10bbc",
       "version_major": 2,
       "version_minor": 0
      },
      "text/plain": [
       "Batches (Època 8): 0it [00:00, ?it/s]"
      ]
     },
     "metadata": {},
     "output_type": "display_data"
    },
    {
     "data": {
      "application/vnd.jupyter.widget-view+json": {
       "model_id": "01d96785b77f4f7aba33228a8dcdfc9d",
       "version_major": 2,
       "version_minor": 0
      },
      "text/plain": [
       "Batches (Època 9): 0it [00:00, ?it/s]"
      ]
     },
     "metadata": {},
     "output_type": "display_data"
    },
    {
     "data": {
      "application/vnd.jupyter.widget-view+json": {
       "model_id": "75e6402d5d124d08a25ea86c72fe1e32",
       "version_major": 2,
       "version_minor": 0
      },
      "text/plain": [
       "Batches (Època 10): 0it [00:00, ?it/s]"
      ]
     },
     "metadata": {},
     "output_type": "display_data"
    },
    {
     "data": {
      "application/vnd.jupyter.widget-view+json": {
       "model_id": "001accf3092e4ee381a4c9b7f4f73f67",
       "version_major": 2,
       "version_minor": 0
      },
      "text/plain": [
       "Batches (Època 11): 0it [00:00, ?it/s]"
      ]
     },
     "metadata": {},
     "output_type": "display_data"
    },
    {
     "data": {
      "application/vnd.jupyter.widget-view+json": {
       "model_id": "a508b32f436a4cd6854ae8badd79aa8d",
       "version_major": 2,
       "version_minor": 0
      },
      "text/plain": [
       "Batches (Època 12): 0it [00:00, ?it/s]"
      ]
     },
     "metadata": {},
     "output_type": "display_data"
    },
    {
     "data": {
      "application/vnd.jupyter.widget-view+json": {
       "model_id": "1fed284160c6442c822e7c9c31e105f6",
       "version_major": 2,
       "version_minor": 0
      },
      "text/plain": [
       "Batches (Època 13): 0it [00:00, ?it/s]"
      ]
     },
     "metadata": {},
     "output_type": "display_data"
    },
    {
     "data": {
      "application/vnd.jupyter.widget-view+json": {
       "model_id": "76e5468c92ae4283802ee7d2ddf6b851",
       "version_major": 2,
       "version_minor": 0
      },
      "text/plain": [
       "Batches (Època 14): 0it [00:00, ?it/s]"
      ]
     },
     "metadata": {},
     "output_type": "display_data"
    },
    {
     "data": {
      "application/vnd.jupyter.widget-view+json": {
       "model_id": "ff75e03c7e034b7ca72c082621683414",
       "version_major": 2,
       "version_minor": 0
      },
      "text/plain": [
       "Batches (Època 15): 0it [00:00, ?it/s]"
      ]
     },
     "metadata": {},
     "output_type": "display_data"
    },
    {
     "data": {
      "application/vnd.jupyter.widget-view+json": {
       "model_id": "eb8e30880195465bb8339cae5824d2d5",
       "version_major": 2,
       "version_minor": 0
      },
      "text/plain": [
       "Batches (Època 16): 0it [00:00, ?it/s]"
      ]
     },
     "metadata": {},
     "output_type": "display_data"
    },
    {
     "data": {
      "application/vnd.jupyter.widget-view+json": {
       "model_id": "43d68000b7b64b4eb939aeed5f3bccd8",
       "version_major": 2,
       "version_minor": 0
      },
      "text/plain": [
       "Batches (Època 17): 0it [00:00, ?it/s]"
      ]
     },
     "metadata": {},
     "output_type": "display_data"
    },
    {
     "data": {
      "application/vnd.jupyter.widget-view+json": {
       "model_id": "0681b86ff3364f88a78495b5d3469ac5",
       "version_major": 2,
       "version_minor": 0
      },
      "text/plain": [
       "Batches (Època 18): 0it [00:00, ?it/s]"
      ]
     },
     "metadata": {},
     "output_type": "display_data"
    },
    {
     "data": {
      "application/vnd.jupyter.widget-view+json": {
       "model_id": "74a9367080664982a95f9fd1cad30e43",
       "version_major": 2,
       "version_minor": 0
      },
      "text/plain": [
       "Batches (Època 19): 0it [00:00, ?it/s]"
      ]
     },
     "metadata": {},
     "output_type": "display_data"
    },
    {
     "data": {
      "application/vnd.jupyter.widget-view+json": {
       "model_id": "2226f992ea354be7a695cc820c02f3b0",
       "version_major": 2,
       "version_minor": 0
      },
      "text/plain": [
       "Batches (Època 20): 0it [00:00, ?it/s]"
      ]
     },
     "metadata": {},
     "output_type": "display_data"
    }
   ],
   "source": [
    "running_loss = []\n",
    "running_acc = []\n",
    "\n",
    "running_test_loss = []\n",
    "running_test_acc_cnn = []\n",
    "\n",
    "for t in tqdm(range(EPOCHS), desc=\"Èpoques\"):\n",
    "    batch_loss = 0\n",
    "    batch_acc = 0\n",
    "\n",
    "    i_batch = 1\n",
    "    # Iteram els batches.\n",
    "    for i_batch, (x, y) in tqdm(enumerate(train_loader), desc=f\"Batches (Època {t + 1})\"):\n",
    "        alex.train()  # Posam el model a mode entranament.\n",
    "\n",
    "        optimizer.zero_grad()\n",
    "\n",
    "        # 1. PREDICCIÓ\n",
    "        y_pred = alex(x.to(device))\n",
    "\n",
    "        # 2. CALCUL DE LA PÈRDUA\n",
    "        # Computa la pèrdua: l'error de predicció vs el valor correcte\n",
    "        # Es guarda la pèrdua en un array per futures visualitzacions\n",
    "\n",
    "        loss = loss_fn(y_pred, y.to(device))\n",
    "\n",
    "        #3. GRADIENT\n",
    "        alex.zero_grad()\n",
    "        loss.backward()\n",
    "\n",
    "        # Actualitza els pesos utilitzant l'algorisme d'actualització\n",
    "        #4. OPTIMITZACIO\n",
    "        with torch.no_grad():\n",
    "            optimizer.step()\n",
    "\n",
    "        # 5. EVALUAM EL MODEL\n",
    "        alex.eval()  # Mode avaluació de la xarxa\n",
    "\n",
    "        y_pred = alex(x.to(device)).detach().cpu()\n",
    "        batch_loss += (loss_fn(y_pred, y).detach())\n",
    "\n",
    "        y_pred_class = torch.argmax(y_pred, dim=1)\n",
    "        batch_acc += accuracy_score(y, y_pred_class)\n",
    "\n",
    "    running_loss.append((batch_loss / (i_batch + 1)).cpu())\n",
    "    running_acc.append(batch_acc / (i_batch + 1))\n",
    "\n",
    "    batch_test_loss = 0\n",
    "    batch_test_acc = 0\n",
    "\n",
    "    alex.eval()\n",
    "    for i_batch, (x, y) in enumerate(test_loader):\n",
    "        y_pred = alex(x.to(device))\n",
    "        batch_test_loss += (loss_fn(y_pred, y.to(device)).detach())\n",
    "\n",
    "        y_pred_class = torch.argmax(y_pred, dim=1).detach().cpu().numpy()\n",
    "        batch_test_acc += accuracy_score(y, y_pred_class)\n",
    "\n",
    "    running_test_loss.append((batch_test_loss / (i_batch + 1)).cpu())\n",
    "    running_test_acc_cnn.append(batch_test_acc / (i_batch + 1))"
   ]
  },
  {
   "cell_type": "code",
   "execution_count": 89,
   "id": "dad2537e-f4ee-4cc8-9e38-afe0ea8afbf3",
   "metadata": {},
   "outputs": [
    {
     "data": {
      "image/png": "[encoded data removed]",
      "text/plain": [
       "<Figure size 640x480 with 2 Axes>"
      ]
     },
     "metadata": {},
     "output_type": "display_data"
    }
   ],
   "source": [
    "plt.subplot(1,2,1)\n",
    "plt.title(\"Loss per iteració CNN\")\n",
    "plt.plot(running_loss, label=\"train\")\n",
    "plt.plot(running_test_loss, label=\"test\")\n",
    "plt.legend()\n",
    "\n",
    "plt.subplot(1,2,2)\n",
    "plt.title(\"Accuracy per iteració CNN\")\n",
    "plt.plot(running_acc, label=\"train\")\n",
    "plt.plot(running_test_acc_cnn, label=\"test\")\n",
    "plt.legend()\n",
    "plt.show()"
   ]
  }
 ],
 "metadata": {
  "kernelspec": {
   "display_name": "Python 3 (ipykernel)",
   "language": "python",
   "name": "python3"
  },
  "language_info": {
   "codemirror_mode": {
    "name": "ipython",
    "version": 3
   },
   "file_extension": ".py",
   "mimetype": "text/x-python",
   "name": "python",
   "nbconvert_exporter": "python",
   "pygments_lexer": "ipython3",
   "version": "3.11.10"
  }
 },
 "nbformat": 4,
 "nbformat_minor": 5
}
