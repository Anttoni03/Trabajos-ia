{
 "cells": [
  {
   "cell_type": "markdown",
   "id": "99029e86-acfe-4cc9-9e86-18f590b4307f",
   "metadata": {},
   "source": [
    "## Conseguir datos"
   ]
  },
  {
   "cell_type": "code",
   "execution_count": 217,
   "id": "03db09cf-60de-4d41-8fa2-880460b4c42d",
   "metadata": {},
   "outputs": [],
   "source": [
    "import os\n",
    "import numpy as np\n",
    "import random\n",
    "import xml.etree.ElementTree as etree\n",
    "from skimage.io import imread\n",
    "from skimage.transform import resize\n",
    "import matplotlib.pyplot as plt\n",
    "from skimage.feature import hog\n",
    "\n",
    "# https://www.kaggle.com/datasets/andrewmvd/dog-and-cat-detection/code"
   ]
  },
  {
   "cell_type": "code",
   "execution_count": 2,
   "id": "1d00593f-4303-4bde-a704-42ccd02f652e",
   "metadata": {},
   "outputs": [],
   "source": [
    "#Parsetja el fitxer xml i recupera la informació necessaria per trobar la cara de l'animal\n",
    "#\n",
    "def extract_xml_annotation(filename):\n",
    "    \"\"\"Parse the xml file\n",
    "    :param filename: str\n",
    "    :return annotation: diccionari\n",
    "    \"\"\"\n",
    "    z = etree.parse(filename)\n",
    "    objects = z.findall('./object')\n",
    "    size = (int(float(z.find('.//width').text)), int(float(z.find('.//height').text)))\n",
    "    dds = []\n",
    "    for obj in objects:\n",
    "        dds.append(obj.find('name').text)\n",
    "        dds.append([int(float(obj.find('bndbox/xmin').text)),\n",
    "                                      int(float(obj.find('bndbox/ymin').text)),\n",
    "                                      int(float(obj.find('bndbox/xmax').text)),\n",
    "                                      int(float(obj.find('bndbox/ymax').text))])\n",
    "\n",
    "    return {'size': size, 'informacio': dds}"
   ]
  },
  {
   "cell_type": "code",
   "execution_count": 3,
   "id": "d58bfe46-c3d3-4485-858a-7393f6e42d04",
   "metadata": {},
   "outputs": [],
   "source": [
    "# Selecciona la cara de l'animal i la transforma a la mida indicat al paràmetre mida_desti\n",
    "def retall_normalitzat(imatge, dades, mida_desti=(64,64)):\n",
    "    \"\"\"\n",
    "    Extreu la regió de la cara (ROI) i retorna una nova imatge de la mida_destí\n",
    "    :param imatge: imatge que conté un animal\n",
    "    :param dades: diccionari extret del xml\n",
    "    :mida_desti: tupla que conté la mida que obtindrà la cara de l'animal\n",
    "    \"\"\"\n",
    "    x, y, ample, alt = dades['informacio'][1]\n",
    "    retall = np.copy(imatge[y:alt, x:ample])\n",
    "    return resize(retall, mida_desti)\n"
   ]
  },
  {
   "cell_type": "code",
   "execution_count": 57,
   "id": "e31db860-5b98-4e23-b6c4-c77103dca857",
   "metadata": {},
   "outputs": [],
   "source": [
    "def obtenir_dades(carpeta_imatges, carpeta_anotacions, mida=(64, 64)):\n",
    "    \"\"\"Genera la col·lecció de cares d'animals i les corresponents etiquetes\n",
    "    :param carpeta_imatges: string amb el path a la carpeta d'imatges\n",
    "    :param carpeta_anotacions: string amb el path a la carpeta d'anotacions\n",
    "    :param mida: tupla que conté la mida que obtindrà la cara de l'animal\n",
    "    :return:\n",
    "        images: numpy array 3D amb la col·lecció de cares\n",
    "        etiquetes: llista binaria 0 si l'animal és un moix 1 en cas contrari\n",
    "    \"\"\"\n",
    "\n",
    "    imatges_elements = [entry for entry in os.listdir(carpeta_imatges) \n",
    "                    if os.path.isfile(os.path.join(carpeta_imatges, entry)) \n",
    "                    and entry.lower().endswith('.png')]\n",
    "    \n",
    "    n_elements = len(imatges_elements)\n",
    "    # Una matriu 3D: mida x mida x nombre d'imatges\n",
    "    imatges = np.zeros((mida[0], mida[1], n_elements), dtype=np.float16)\n",
    "    # Una llista d'etiquetes\n",
    "    etiquetes = [0] * n_elements\n",
    "\n",
    "    #  Recorre els elements de les dues carpetes: llegeix una imatge i obté la informació interessant del xml\n",
    "    for idx, element in enumerate(imatges_elements):\n",
    "        nom = element.split(\".\")\n",
    "        nom_fitxer = nom[0] + \".xml\"\n",
    "\n",
    "        path_anotacio = os.path.join(carpeta_anotacions, nom_fitxer)\n",
    "        #if not os.path.exists(path_anotacio):\n",
    "            #print(f\"Advertència: L'anotació {nom_fitxer} no existeix.\")\n",
    "            #continue\n",
    "        imatge_path = os.path.join(carpeta_imatges, element)\n",
    "        imatge = imread(imatge_path, as_gray=True)\n",
    "        #try:\n",
    "            #imatge = imread(imatge_path, as_gray=True)\n",
    "        #except OSError as e:\n",
    "            #print(f\"Error en llegir la imatge {element}: {e}\")\n",
    "            #continue\n",
    "\n",
    "        anotacions = extract_xml_annotation(path_anotacio)\n",
    "        \n",
    "        cara_animal = retall_normalitzat(imatge, anotacions, mida)\n",
    "        tipus_animal = anotacions[\"informacio\"][0]\n",
    "        \n",
    "        imatges[:, :, idx] = cara_animal\n",
    "        \n",
    "        etiquetes[idx] = 0 if tipus_animal == \"cat\" else 1\n",
    "\n",
    "    return imatges, etiquetes"
   ]
  },
  {
   "cell_type": "code",
   "execution_count": 330,
   "id": "a6fe28d6-838d-410f-9a88-d058f5af3af0",
   "metadata": {},
   "outputs": [],
   "source": [
    "def obtenirHoG(imatges):\n",
    "\n",
    "    pixels_bloc = (8, 8)\n",
    "    orientacions = 10\n",
    "    blocs = (2, 2)\n",
    "\n",
    "    descriptors = []\n",
    "    imatges_hog = []\n",
    "\n",
    "    for idx in range(imatges.shape[2]):\n",
    "\n",
    "        imatge = imatges[:, :, idx]\n",
    "        descriptor, imatge = hog(imatge,\n",
    "                                 orientations=orientacions,\n",
    "                                 pixels_per_cell=pixels_bloc,\n",
    "                                 cells_per_block=blocs,\n",
    "                                 block_norm='L2-Hys',\n",
    "                                 visualize=True,\n",
    "                                 transform_sqrt=True)\n",
    "        \n",
    "        descriptors.append(descriptor)\n",
    "        imatges_hog.append(imatge)\n",
    "\n",
    "    descriptors = np.array(descriptors)   \n",
    "    imatges_hog = np.array(imatges_hog)\n",
    "    \n",
    "    return descriptors, imatges_hog"
   ]
  },
  {
   "cell_type": "code",
   "execution_count": 259,
   "id": "8e5d5819-cab6-4659-975f-918cb293a147",
   "metadata": {},
   "outputs": [],
   "source": [
    "def showHoGVariations(imatge, hogParams):\n",
    "    fig, axes = plt.subplots(1, len(hogParams)+1, figsize=(15, 15))\n",
    "\n",
    "    axes[0].imshow(imatge, cmap='gray')\n",
    "    axes[0].axis('off')\n",
    "    \n",
    "    for idx, params in enumerate(hogParams):\n",
    "        #print(f\"HoG Params {params}\")\n",
    "    \n",
    "        _, imatge_hog = hog(imatges[:, :, randomIdx],\n",
    "                                 orientations=params[1],\n",
    "                                 pixels_per_cell=params[0],\n",
    "                                 cells_per_block=params[2],\n",
    "                                 block_norm='L2-Hys',\n",
    "                                 visualize=True,\n",
    "                                 transform_sqrt=True)\n",
    "\n",
    "        axes[idx+1].imshow(imatge_hog, cmap='gray')\n",
    "        axes[idx+1].set_title(f\"HoG Params {params}\")\n",
    "        axes[idx+1].axis('off')\n",
    "\n",
    "    plt.tight_layout()\n",
    "    plt.show()"
   ]
  },
  {
   "cell_type": "code",
   "execution_count": 356,
   "id": "50416526-f95d-41fb-bbbd-5e0ba92e0a6e",
   "metadata": {},
   "outputs": [],
   "source": [
    "carpeta_images = \"gatigos/images2\"  # NO ES POT MODIFICAR\n",
    "carpeta_anotacions = \"gatigos/annotations2\"  # NO ES POT MODIFICAR\n",
    "mida = (64, 64)  # DEFINEIX LA MIDA, ES RECOMANA COMENÇAR AMB 64x64\n",
    "imatges, etiquetes = obtenir_dades(carpeta_images, carpeta_anotacions, mida)\n",
    "\n",
    "caracteristiques, imatges_hog = obtenirHoG(imatges)"
   ]
  },
  {
   "cell_type": "code",
   "execution_count": 357,
   "id": "b616a4c9-231b-4205-a2b9-ccd38fe7dd96",
   "metadata": {},
   "outputs": [
    {
     "data": {
      "image/png": "[encoded data removed]",
      "text/plain": [
       "<Figure size 1500x1500 with 5 Axes>"
      ]
     },
     "metadata": {},
     "output_type": "display_data"
    }
   ],
   "source": [
    "randomIdx = 74\n",
    "randomIdx = random.randint(0,len(imatges)-1)\n",
    "params = [[(6, 6), 5, (2, 2)], \n",
    "          [(8, 8), 8, (2, 2)],\n",
    "          [(8, 8), 10, (2, 2)], \n",
    "          [(12, 12), 8, (2, 2)]]\n",
    "\n",
    "showHoGVariations(imatges[:, :, randomIdx], params)"
   ]
  },
  {
   "cell_type": "markdown",
   "id": "a228f827-0627-4a71-ba57-f5bbe4bd595c",
   "metadata": {},
   "source": [
    "## Modelo de clasificación"
   ]
  },
  {
   "cell_type": "code",
   "execution_count": 359,
   "id": "57c6b3f7-bc5c-4148-b3b8-2599bfa1e075",
   "metadata": {},
   "outputs": [],
   "source": [
    "from sklearn.model_selection import train_test_split\n",
    "from sklearn.preprocessing import MinMaxScaler\n",
    "from sklearn.svm import SVC\n",
    "from sklearn.metrics import precision_score\n",
    "from scipy.spatial import distance_matrix\n",
    "from sklearn.inspection import DecisionBoundaryDisplay"
   ]
  },
  {
   "cell_type": "code",
   "execution_count": 378,
   "id": "355d41d4-f6fa-4a6c-becb-2614b651dce5",
   "metadata": {},
   "outputs": [
    {
     "data": {
      "text/plain": [
       "array([[0.6206, 0.6196, 0.6196, ..., 0.625 , 0.625 , 0.625 ],\n",
       "       [0.6226, 0.62  , 0.622 , ..., 0.6265, 0.627 , 0.627 ],\n",
       "       [0.6206, 0.6235, 0.6196, ..., 0.623 , 0.6235, 0.6235],\n",
       "       ...,\n",
       "       [0.666 , 0.6655, 0.67  , ..., 0.497 , 0.46  , 0.5205],\n",
       "       [0.665 , 0.6655, 0.6646, ..., 0.4934, 0.5137, 0.4924],\n",
       "       [0.6665, 0.6733, 0.6626, ..., 0.4941, 0.522 , 0.518 ]],\n",
       "      dtype=float16)"
      ]
     },
     "execution_count": 378,
     "metadata": {},
     "output_type": "execute_result"
    }
   ],
   "source": [
    "imatges[:,:,0]"
   ]
  },
  {
   "cell_type": "code",
   "execution_count": 379,
   "id": "2ea3717e-d43f-4bed-83f9-d6a2be72b825",
   "metadata": {},
   "outputs": [],
   "source": [
    "X_train, X_test, y_train, y_test = train_test_split(caracteristiques, etiquetes, test_size=0.33, random_state=42)\n",
    "\n",
    "X_train2, X_test2, y_train2, y_test2 = train_test_split(np.transpose(imatges, (2, 0, 1)), etiquetes, test_size=0.33, random_state=42)"
   ]
  },
  {
   "cell_type": "code",
   "execution_count": 390,
   "id": "2c71faa9-d653-4ffd-9ddd-f5e5b285d999",
   "metadata": {},
   "outputs": [],
   "source": [
    "scaler = MinMaxScaler()  #StandardScaler()\n",
    "X_transformed = scaler.fit_transform(X_train)\n",
    "X_test_transformed = scaler.transform(X_test)"
   ]
  },
  {
   "cell_type": "code",
   "execution_count": 391,
   "id": "a35c28ea-1093-4c9d-b6b1-2d17f0825488",
   "metadata": {},
   "outputs": [],
   "source": [
    "gamma = 1.0 / (X_transformed.shape[1] * X_transformed.var())\n",
    "C = 1.0\n",
    "random_state = 33\n",
    "kernels = [\"linear\", \"rbf\", \"poly\"]"
   ]
  },
  {
   "cell_type": "code",
   "execution_count": 392,
   "id": "278d41df-409e-40e8-9004-3159a50260b7",
   "metadata": {},
   "outputs": [
    {
     "name": "stdout",
     "output_type": "stream",
     "text": [
      "TEST KERNEL: linear\n",
      "[0 1 0 0 1]\n",
      " Resultats:\n",
      "   Precisió: 0.9333333333333333\n",
      "TEST KERNEL: rbf\n",
      "[1 1 0 0 1]\n",
      " Resultats:\n",
      "   Precisió: 0.9148936170212766\n",
      "TEST KERNEL: poly\n",
      "[0 1 0 0 1]\n",
      " Resultats:\n",
      "   Precisió: 0.9333333333333333\n"
     ]
    }
   ],
   "source": [
    "for kernel in kernels: # obtindrem les claus del diccionari \"linear\", \"rbf\", \"poly\"\n",
    "\n",
    "    print(f\"TEST KERNEL: {kernel}\")\n",
    "    svm = SVC(C=C, kernel=kernel, random_state=random_state)\n",
    "    svm.fit(X_transformed, y_train)\n",
    "    y_predict = svm.predict(X_test_transformed)\n",
    "\n",
    "    print(y_predict[0:5])\n",
    "    \n",
    "    print(\" Resultats:\")\n",
    "    precision_scikit = precision_score(y_test, y_predict)\n",
    "    print(f\"   Precisió: {precision_scikit}\")"
   ]
  },
  {
   "cell_type": "code",
   "execution_count": 393,
   "id": "712116ae-b620-41dd-ba2e-42e9827f6d02",
   "metadata": {},
   "outputs": [
    {
     "data": {
      "text/plain": [
       "[0, 1, 0, 0, 1]"
      ]
     },
     "execution_count": 393,
     "metadata": {},
     "output_type": "execute_result"
    }
   ],
   "source": [
    "y_test[0:5]"
   ]
  },
  {
   "cell_type": "code",
   "execution_count": 367,
   "id": "652dd28f-6f4a-47f1-b8dc-eae7868d039e",
   "metadata": {},
   "outputs": [
    {
     "name": "stdout",
     "output_type": "stream",
     "text": [
      "0\n",
      "1\n",
      "2\n",
      "3\n",
      "4\n"
     ]
    }
   ],
   "source": [
    "for i in range(5):\n",
    "    print(f\"Imagen {i} real es {y_test[i]}\")\n",
    "    plt.imshow()"
   ]
  }
 ],
 "metadata": {
  "kernelspec": {
   "display_name": "Python 3 (ipykernel)",
   "language": "python",
   "name": "python3"
  },
  "language_info": {
   "codemirror_mode": {
    "name": "ipython",
    "version": 3
   },
   "file_extension": ".py",
   "mimetype": "text/x-python",
   "name": "python",
   "nbconvert_exporter": "python",
   "pygments_lexer": "ipython3",
   "version": "3.11.10"
  }
 },
 "nbformat": 4,
 "nbformat_minor": 5
}
